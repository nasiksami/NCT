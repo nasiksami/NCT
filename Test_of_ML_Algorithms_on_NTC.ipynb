{
  "nbformat": 4,
  "nbformat_minor": 0,
  "metadata": {
    "colab": {
      "provenance": [],
      "machine_shape": "hm",
      "include_colab_link": true
    },
    "kernelspec": {
      "name": "python3",
      "display_name": "Python 3"
    },
    "accelerator": "GPU",
    "gpuClass": "standard"
  },
  "cells": [
    {
      "cell_type": "markdown",
      "metadata": {
        "id": "view-in-github",
        "colab_type": "text"
      },
      "source": [
        "<a href=\"https://colab.research.google.com/github/nasiksami/NCT/blob/main/Test_of_ML_Algorithms_on_NTC.ipynb\" target=\"_parent\"><img src=\"https://colab.research.google.com/assets/colab-badge.svg\" alt=\"Open In Colab\"/></a>"
      ]
    },
    {
      "cell_type": "markdown",
      "metadata": {
        "id": "gmfwE0JB6Ne3"
      },
      "source": [
        "**Overview**\n",
        "\n",
        "\n",
        "On this notebook, we have used **9** different Machine Learning Approaches nameley **MultinomialNB, DecisionTreeClassifier, LinearSVC, AdaBoostClassifier, \n",
        "          BaggingClassifier,RandomForestClassifier,\n",
        "         LogisticRegression, SGDClassifier, KNeighborsClassifier** to classify the **network_impactimpact of Cyberbullying** across the social media contents. And used LSTM as a Deep Learning Approach. For the dataset, we have used data from **2** different sources. The **first** one is from  \"https://github.com/Kavita309/network_impact-of-cyberbullying-across-SMPs/tree/master/DataSets/CSV\" and the **second** one is from \"https://github.com/Mrezvan94/Harassment-Corpus\" they have provided the data upon request. The number of instances are **27817**. There are total **4 classes** of data depending on the network_impact. The classes are **\"High\", \"Medium\", \"Low\" and \"None\".** We have concatenated the data from these sources and preprocessed them accordingly. "
      ]
    },
    {
      "cell_type": "markdown",
      "metadata": {
        "id": "QyzdtZ1PD3XS"
      },
      "source": [
        "Code Reference: https://github.com/dhavalpotdar/cyberbullying-detection"
      ]
    },
    {
      "cell_type": "markdown",
      "metadata": {
        "id": "OgnI7T3oEPal"
      },
      "source": [
        "**Relevant Links for LSTM:**\n",
        "\n",
        "\n",
        "https://towardsdatascience.com/multi-class-text-classification-with-lstm-using-tensorflow-2-0-d88627c10a35\n",
        "\n",
        "https://towardsdatascience.com/multi-class-text-classification-with-lstm-1590bee1bd17"
      ]
    },
    {
      "cell_type": "markdown",
      "metadata": {
        "id": "xz8bKcM5EPWE"
      },
      "source": [
        "**Relevant Links for Machine learning algorithms:**\n",
        "\n",
        "\n",
        "https://monkeylearn.com/text-classification/\n",
        "\n",
        "\n",
        "https://towardsdatascience.com/machine-learning-nlp-text-classification-using-scikit-learn-python-and-nltk-c52b92a7c73a\n",
        "\n",
        "\n",
        "https://www.analyticsvidhya.com/blog/2018/04/a-comprehensive-guide-to-understand-and-implement-text-classification-in-python/\n",
        "\n",
        "\n",
        "https://lionbridge.ai/articles/12-best-text-classification-tools-and-services/\n"
      ]
    },
    {
      "cell_type": "markdown",
      "metadata": {
        "id": "Vw7s9qrOnxv3"
      },
      "source": [
        "## **Detecting Cyberbullying network_impact** "
      ]
    },
    {
      "cell_type": "code",
      "metadata": {
        "id": "SKCtcoKhiaBa"
      },
      "source": [
        "\n",
        "import numpy as np \n",
        "import pandas as pd \n",
        "import matplotlib.pyplot as plt\n",
        "import seaborn as sns\n",
        "from sklearn.model_selection import train_test_split, GridSearchCV\n",
        "from sklearn.feature_extraction.text import CountVectorizer\n",
        "from sklearn.metrics import f1_score, accuracy_score, precision_score, recall_score, make_scorer\n",
        "from time import time\n",
        "\n",
        "from sklearn.naive_bayes import MultinomialNB\n",
        "from sklearn.tree import DecisionTreeClassifier\n",
        "from sklearn.svm import LinearSVC\n",
        "from sklearn.ensemble import AdaBoostClassifier, RandomForestClassifier, BaggingClassifier\n",
        "from sklearn.linear_model import LogisticRegression, SGDClassifier\n",
        "from sklearn.neighbors import KNeighborsClassifier\n",
        "import joblib"
      ],
      "execution_count": 2,
      "outputs": []
    },
    {
      "cell_type": "code",
      "metadata": {
        "id": "xXJ21A0ynlQc",
        "colab": {
          "base_uri": "https://localhost:8080/"
        },
        "outputId": "1fe46015-6085-48a5-839d-1103333ea616"
      },
      "source": [
        "from google.colab import drive\n",
        "drive.mount('/content/drive')"
      ],
      "execution_count": 1,
      "outputs": [
        {
          "output_type": "stream",
          "name": "stdout",
          "text": [
            "Mounted at /content/drive\n"
          ]
        }
      ]
    },
    {
      "cell_type": "markdown",
      "metadata": {
        "id": "vkzAyk4xoELo"
      },
      "source": [
        "## **Loading and Analyzing the data**\n",
        "\n",
        "\n"
      ]
    },
    {
      "cell_type": "code",
      "metadata": {
        "id": "JAuaA0zvY54a"
      },
      "source": [
        "df = pd.read_csv('/content/drive/MyDrive/Dataset_Raw/cleaned_completed_train.csv')"
      ],
      "execution_count": 3,
      "outputs": []
    },
    {
      "cell_type": "code",
      "metadata": {
        "colab": {
          "base_uri": "https://localhost:8080/"
        },
        "id": "X5NSm6lBwJAo",
        "outputId": "e59386b6-5e21-4972-ced2-b1e7f496a126"
      },
      "source": [
        "df.shape"
      ],
      "execution_count": 4,
      "outputs": [
        {
          "output_type": "execute_result",
          "data": {
            "text/plain": [
              "(209764, 3)"
            ]
          },
          "metadata": {},
          "execution_count": 4
        }
      ]
    },
    {
      "cell_type": "code",
      "metadata": {
        "colab": {
          "base_uri": "https://localhost:8080/"
        },
        "id": "cytJBwiIZDuc",
        "outputId": "42d28cd9-9c08-46aa-d954-e10efab93045"
      },
      "source": [
        "df.head()\n",
        "#df.drop('Unnamed: 0', inplace=True, axis=1)\n",
        "df.dtypes"
      ],
      "execution_count": 5,
      "outputs": [
        {
          "output_type": "execute_result",
          "data": {
            "text/plain": [
              "_headline         object\n",
              "_description      object\n",
              "network_impact    object\n",
              "dtype: object"
            ]
          },
          "metadata": {},
          "execution_count": 5
        }
      ]
    },
    {
      "cell_type": "code",
      "metadata": {
        "id": "3vWx8YeBZJsa"
      },
      "source": [
        "df.dropna(inplace=True)"
      ],
      "execution_count": 6,
      "outputs": []
    },
    {
      "cell_type": "code",
      "metadata": {
        "id": "AYWAC_-85VLy"
      },
      "source": [
        "df = df.sample(frac = 1) "
      ],
      "execution_count": 7,
      "outputs": []
    },
    {
      "cell_type": "code",
      "metadata": {
        "colab": {
          "base_uri": "https://localhost:8080/",
          "height": 206
        },
        "id": "5GVsSH_tzOT-",
        "outputId": "4741bb97-e4e0-4179-a88b-af8d7ef7beac"
      },
      "source": [
        "df.head()"
      ],
      "execution_count": 8,
      "outputs": [
        {
          "output_type": "execute_result",
          "data": {
            "text/plain": [
              "                                _headline  \\\n",
              "83677               rcmin port act probes   \n",
              "85027                           w apnc      \n",
              "151186  pcn c  fw  s w upgrades rel  rel    \n",
              "111818                   north service rd   \n",
              "105331                       cate cabling   \n",
              "\n",
              "                                             _description network_impact  \n",
              "83677   npt ticket number request category wireline ty...      No_Impact  \n",
              "85027                                           w apnc         No_Impact  \n",
              "151186  non service affecting software upgrade followi...      No_Impact  \n",
              "111818                                  equipment upgrade      No_Impact  \n",
              "105331            cate cabling bill flood  york st london      No_Impact  "
            ],
            "text/html": [
              "\n",
              "  <div id=\"df-83bd9dc1-d9f6-4713-bb66-6f2355f0c257\">\n",
              "    <div class=\"colab-df-container\">\n",
              "      <div>\n",
              "<style scoped>\n",
              "    .dataframe tbody tr th:only-of-type {\n",
              "        vertical-align: middle;\n",
              "    }\n",
              "\n",
              "    .dataframe tbody tr th {\n",
              "        vertical-align: top;\n",
              "    }\n",
              "\n",
              "    .dataframe thead th {\n",
              "        text-align: right;\n",
              "    }\n",
              "</style>\n",
              "<table border=\"1\" class=\"dataframe\">\n",
              "  <thead>\n",
              "    <tr style=\"text-align: right;\">\n",
              "      <th></th>\n",
              "      <th>_headline</th>\n",
              "      <th>_description</th>\n",
              "      <th>network_impact</th>\n",
              "    </tr>\n",
              "  </thead>\n",
              "  <tbody>\n",
              "    <tr>\n",
              "      <th>83677</th>\n",
              "      <td>rcmin port act probes</td>\n",
              "      <td>npt ticket number request category wireline ty...</td>\n",
              "      <td>No_Impact</td>\n",
              "    </tr>\n",
              "    <tr>\n",
              "      <th>85027</th>\n",
              "      <td>w apnc</td>\n",
              "      <td>w apnc</td>\n",
              "      <td>No_Impact</td>\n",
              "    </tr>\n",
              "    <tr>\n",
              "      <th>151186</th>\n",
              "      <td>pcn c  fw  s w upgrades rel  rel</td>\n",
              "      <td>non service affecting software upgrade followi...</td>\n",
              "      <td>No_Impact</td>\n",
              "    </tr>\n",
              "    <tr>\n",
              "      <th>111818</th>\n",
              "      <td>north service rd</td>\n",
              "      <td>equipment upgrade</td>\n",
              "      <td>No_Impact</td>\n",
              "    </tr>\n",
              "    <tr>\n",
              "      <th>105331</th>\n",
              "      <td>cate cabling</td>\n",
              "      <td>cate cabling bill flood  york st london</td>\n",
              "      <td>No_Impact</td>\n",
              "    </tr>\n",
              "  </tbody>\n",
              "</table>\n",
              "</div>\n",
              "      <button class=\"colab-df-convert\" onclick=\"convertToInteractive('df-83bd9dc1-d9f6-4713-bb66-6f2355f0c257')\"\n",
              "              title=\"Convert this dataframe to an interactive table.\"\n",
              "              style=\"display:none;\">\n",
              "        \n",
              "  <svg xmlns=\"http://www.w3.org/2000/svg\" height=\"24px\"viewBox=\"0 0 24 24\"\n",
              "       width=\"24px\">\n",
              "    <path d=\"M0 0h24v24H0V0z\" fill=\"none\"/>\n",
              "    <path d=\"M18.56 5.44l.94 2.06.94-2.06 2.06-.94-2.06-.94-.94-2.06-.94 2.06-2.06.94zm-11 1L8.5 8.5l.94-2.06 2.06-.94-2.06-.94L8.5 2.5l-.94 2.06-2.06.94zm10 10l.94 2.06.94-2.06 2.06-.94-2.06-.94-.94-2.06-.94 2.06-2.06.94z\"/><path d=\"M17.41 7.96l-1.37-1.37c-.4-.4-.92-.59-1.43-.59-.52 0-1.04.2-1.43.59L10.3 9.45l-7.72 7.72c-.78.78-.78 2.05 0 2.83L4 21.41c.39.39.9.59 1.41.59.51 0 1.02-.2 1.41-.59l7.78-7.78 2.81-2.81c.8-.78.8-2.07 0-2.86zM5.41 20L4 18.59l7.72-7.72 1.47 1.35L5.41 20z\"/>\n",
              "  </svg>\n",
              "      </button>\n",
              "      \n",
              "  <style>\n",
              "    .colab-df-container {\n",
              "      display:flex;\n",
              "      flex-wrap:wrap;\n",
              "      gap: 12px;\n",
              "    }\n",
              "\n",
              "    .colab-df-convert {\n",
              "      background-color: #E8F0FE;\n",
              "      border: none;\n",
              "      border-radius: 50%;\n",
              "      cursor: pointer;\n",
              "      display: none;\n",
              "      fill: #1967D2;\n",
              "      height: 32px;\n",
              "      padding: 0 0 0 0;\n",
              "      width: 32px;\n",
              "    }\n",
              "\n",
              "    .colab-df-convert:hover {\n",
              "      background-color: #E2EBFA;\n",
              "      box-shadow: 0px 1px 2px rgba(60, 64, 67, 0.3), 0px 1px 3px 1px rgba(60, 64, 67, 0.15);\n",
              "      fill: #174EA6;\n",
              "    }\n",
              "\n",
              "    [theme=dark] .colab-df-convert {\n",
              "      background-color: #3B4455;\n",
              "      fill: #D2E3FC;\n",
              "    }\n",
              "\n",
              "    [theme=dark] .colab-df-convert:hover {\n",
              "      background-color: #434B5C;\n",
              "      box-shadow: 0px 1px 3px 1px rgba(0, 0, 0, 0.15);\n",
              "      filter: drop-shadow(0px 1px 2px rgba(0, 0, 0, 0.3));\n",
              "      fill: #FFFFFF;\n",
              "    }\n",
              "  </style>\n",
              "\n",
              "      <script>\n",
              "        const buttonEl =\n",
              "          document.querySelector('#df-83bd9dc1-d9f6-4713-bb66-6f2355f0c257 button.colab-df-convert');\n",
              "        buttonEl.style.display =\n",
              "          google.colab.kernel.accessAllowed ? 'block' : 'none';\n",
              "\n",
              "        async function convertToInteractive(key) {\n",
              "          const element = document.querySelector('#df-83bd9dc1-d9f6-4713-bb66-6f2355f0c257');\n",
              "          const dataTable =\n",
              "            await google.colab.kernel.invokeFunction('convertToInteractive',\n",
              "                                                     [key], {});\n",
              "          if (!dataTable) return;\n",
              "\n",
              "          const docLinkHtml = 'Like what you see? Visit the ' +\n",
              "            '<a target=\"_blank\" href=https://colab.research.google.com/notebooks/data_table.ipynb>data table notebook</a>'\n",
              "            + ' to learn more about interactive tables.';\n",
              "          element.innerHTML = '';\n",
              "          dataTable['output_type'] = 'display_data';\n",
              "          await google.colab.output.renderOutput(dataTable, element);\n",
              "          const docLink = document.createElement('div');\n",
              "          docLink.innerHTML = docLinkHtml;\n",
              "          element.appendChild(docLink);\n",
              "        }\n",
              "      </script>\n",
              "    </div>\n",
              "  </div>\n",
              "  "
            ]
          },
          "metadata": {},
          "execution_count": 8
        }
      ]
    },
    {
      "cell_type": "code",
      "metadata": {
        "colab": {
          "base_uri": "https://localhost:8080/",
          "height": 429
        },
        "id": "BJ8xenqYzkcu",
        "outputId": "3d9a915d-64cf-4880-823f-453793fcf14d"
      },
      "source": [
        "plt.figure(figsize = (7,7))\n",
        "sorted_counts = df['network_impact'].value_counts()\n",
        "plt.pie(sorted_counts, labels = sorted_counts.index, startangle = 90, counterclock = False, wedgeprops = {'width' : 0.6},\n",
        "       autopct='%1.1f%%', pctdistance = 0.7, textprops = {'color': 'black', 'fontsize' : 15}, shadow = True,\n",
        "        colors = sns.color_palette(\"Paired\")[7:])\n",
        "plt.text(x = -0.35, y = 0, s = 'Total Texts: {}'.format(df.shape[0]))\n",
        "plt.title('Distribution of Texts in the Dataset', fontsize = 16);"
      ],
      "execution_count": 9,
      "outputs": [
        {
          "output_type": "display_data",
          "data": {
            "text/plain": [
              "<Figure size 504x504 with 1 Axes>"
            ],
            "image/png": "[encoded data removed]"
          },
          "metadata": {}
        }
      ]
    },
    {
      "cell_type": "code",
      "metadata": {
        "id": "xlkV04V8rWSS"
      },
      "source": [
        "df['network_impact'] = df.network_impact.map({'Threatened':1,'Degraded':2,\"Outage\":3,\"No_Impact\":0})"
      ],
      "execution_count": 10,
      "outputs": []
    },
    {
      "cell_type": "code",
      "metadata": {
        "colab": {
          "base_uri": "https://localhost:8080/"
        },
        "id": "zTjWg9Qae0qZ",
        "outputId": "48d9a712-5aea-4eb9-9d31-eef0cb59daa0"
      },
      "source": [
        "df.shape"
      ],
      "execution_count": 11,
      "outputs": [
        {
          "output_type": "execute_result",
          "data": {
            "text/plain": [
              "(209252, 3)"
            ]
          },
          "metadata": {},
          "execution_count": 11
        }
      ]
    },
    {
      "cell_type": "code",
      "metadata": {
        "colab": {
          "base_uri": "https://localhost:8080/",
          "height": 206
        },
        "id": "jwjbH1WIj74r",
        "outputId": "90b541e7-d72b-49a2-a419-9cd3be5cbb08"
      },
      "source": [
        "df.head()"
      ],
      "execution_count": 12,
      "outputs": [
        {
          "output_type": "execute_result",
          "data": {
            "text/plain": [
              "                                _headline  \\\n",
              "83677               rcmin port act probes   \n",
              "85027                           w apnc      \n",
              "151186  pcn c  fw  s w upgrades rel  rel    \n",
              "111818                   north service rd   \n",
              "105331                       cate cabling   \n",
              "\n",
              "                                             _description  network_impact  \n",
              "83677   npt ticket number request category wireline ty...               0  \n",
              "85027                                           w apnc                  0  \n",
              "151186  non service affecting software upgrade followi...               0  \n",
              "111818                                  equipment upgrade               0  \n",
              "105331            cate cabling bill flood  york st london               0  "
            ],
            "text/html": [
              "\n",
              "  <div id=\"df-47696a7a-b37d-4853-97c3-88e6104bc1dc\">\n",
              "    <div class=\"colab-df-container\">\n",
              "      <div>\n",
              "<style scoped>\n",
              "    .dataframe tbody tr th:only-of-type {\n",
              "        vertical-align: middle;\n",
              "    }\n",
              "\n",
              "    .dataframe tbody tr th {\n",
              "        vertical-align: top;\n",
              "    }\n",
              "\n",
              "    .dataframe thead th {\n",
              "        text-align: right;\n",
              "    }\n",
              "</style>\n",
              "<table border=\"1\" class=\"dataframe\">\n",
              "  <thead>\n",
              "    <tr style=\"text-align: right;\">\n",
              "      <th></th>\n",
              "      <th>_headline</th>\n",
              "      <th>_description</th>\n",
              "      <th>network_impact</th>\n",
              "    </tr>\n",
              "  </thead>\n",
              "  <tbody>\n",
              "    <tr>\n",
              "      <th>83677</th>\n",
              "      <td>rcmin port act probes</td>\n",
              "      <td>npt ticket number request category wireline ty...</td>\n",
              "      <td>0</td>\n",
              "    </tr>\n",
              "    <tr>\n",
              "      <th>85027</th>\n",
              "      <td>w apnc</td>\n",
              "      <td>w apnc</td>\n",
              "      <td>0</td>\n",
              "    </tr>\n",
              "    <tr>\n",
              "      <th>151186</th>\n",
              "      <td>pcn c  fw  s w upgrades rel  rel</td>\n",
              "      <td>non service affecting software upgrade followi...</td>\n",
              "      <td>0</td>\n",
              "    </tr>\n",
              "    <tr>\n",
              "      <th>111818</th>\n",
              "      <td>north service rd</td>\n",
              "      <td>equipment upgrade</td>\n",
              "      <td>0</td>\n",
              "    </tr>\n",
              "    <tr>\n",
              "      <th>105331</th>\n",
              "      <td>cate cabling</td>\n",
              "      <td>cate cabling bill flood  york st london</td>\n",
              "      <td>0</td>\n",
              "    </tr>\n",
              "  </tbody>\n",
              "</table>\n",
              "</div>\n",
              "      <button class=\"colab-df-convert\" onclick=\"convertToInteractive('df-47696a7a-b37d-4853-97c3-88e6104bc1dc')\"\n",
              "              title=\"Convert this dataframe to an interactive table.\"\n",
              "              style=\"display:none;\">\n",
              "        \n",
              "  <svg xmlns=\"http://www.w3.org/2000/svg\" height=\"24px\"viewBox=\"0 0 24 24\"\n",
              "       width=\"24px\">\n",
              "    <path d=\"M0 0h24v24H0V0z\" fill=\"none\"/>\n",
              "    <path d=\"M18.56 5.44l.94 2.06.94-2.06 2.06-.94-2.06-.94-.94-2.06-.94 2.06-2.06.94zm-11 1L8.5 8.5l.94-2.06 2.06-.94-2.06-.94L8.5 2.5l-.94 2.06-2.06.94zm10 10l.94 2.06.94-2.06 2.06-.94-2.06-.94-.94-2.06-.94 2.06-2.06.94z\"/><path d=\"M17.41 7.96l-1.37-1.37c-.4-.4-.92-.59-1.43-.59-.52 0-1.04.2-1.43.59L10.3 9.45l-7.72 7.72c-.78.78-.78 2.05 0 2.83L4 21.41c.39.39.9.59 1.41.59.51 0 1.02-.2 1.41-.59l7.78-7.78 2.81-2.81c.8-.78.8-2.07 0-2.86zM5.41 20L4 18.59l7.72-7.72 1.47 1.35L5.41 20z\"/>\n",
              "  </svg>\n",
              "      </button>\n",
              "      \n",
              "  <style>\n",
              "    .colab-df-container {\n",
              "      display:flex;\n",
              "      flex-wrap:wrap;\n",
              "      gap: 12px;\n",
              "    }\n",
              "\n",
              "    .colab-df-convert {\n",
              "      background-color: #E8F0FE;\n",
              "      border: none;\n",
              "      border-radius: 50%;\n",
              "      cursor: pointer;\n",
              "      display: none;\n",
              "      fill: #1967D2;\n",
              "      height: 32px;\n",
              "      padding: 0 0 0 0;\n",
              "      width: 32px;\n",
              "    }\n",
              "\n",
              "    .colab-df-convert:hover {\n",
              "      background-color: #E2EBFA;\n",
              "      box-shadow: 0px 1px 2px rgba(60, 64, 67, 0.3), 0px 1px 3px 1px rgba(60, 64, 67, 0.15);\n",
              "      fill: #174EA6;\n",
              "    }\n",
              "\n",
              "    [theme=dark] .colab-df-convert {\n",
              "      background-color: #3B4455;\n",
              "      fill: #D2E3FC;\n",
              "    }\n",
              "\n",
              "    [theme=dark] .colab-df-convert:hover {\n",
              "      background-color: #434B5C;\n",
              "      box-shadow: 0px 1px 3px 1px rgba(0, 0, 0, 0.15);\n",
              "      filter: drop-shadow(0px 1px 2px rgba(0, 0, 0, 0.3));\n",
              "      fill: #FFFFFF;\n",
              "    }\n",
              "  </style>\n",
              "\n",
              "      <script>\n",
              "        const buttonEl =\n",
              "          document.querySelector('#df-47696a7a-b37d-4853-97c3-88e6104bc1dc button.colab-df-convert');\n",
              "        buttonEl.style.display =\n",
              "          google.colab.kernel.accessAllowed ? 'block' : 'none';\n",
              "\n",
              "        async function convertToInteractive(key) {\n",
              "          const element = document.querySelector('#df-47696a7a-b37d-4853-97c3-88e6104bc1dc');\n",
              "          const dataTable =\n",
              "            await google.colab.kernel.invokeFunction('convertToInteractive',\n",
              "                                                     [key], {});\n",
              "          if (!dataTable) return;\n",
              "\n",
              "          const docLinkHtml = 'Like what you see? Visit the ' +\n",
              "            '<a target=\"_blank\" href=https://colab.research.google.com/notebooks/data_table.ipynb>data table notebook</a>'\n",
              "            + ' to learn more about interactive tables.';\n",
              "          element.innerHTML = '';\n",
              "          dataTable['output_type'] = 'display_data';\n",
              "          await google.colab.output.renderOutput(dataTable, element);\n",
              "          const docLink = document.createElement('div');\n",
              "          docLink.innerHTML = docLinkHtml;\n",
              "          element.appendChild(docLink);\n",
              "        }\n",
              "      </script>\n",
              "    </div>\n",
              "  </div>\n",
              "  "
            ]
          },
          "metadata": {},
          "execution_count": 12
        }
      ]
    },
    {
      "cell_type": "code",
      "metadata": {
        "colab": {
          "base_uri": "https://localhost:8080/"
        },
        "id": "KvviX1oqwxqE",
        "outputId": "247fb85c-51c8-4098-af91-812a6c621fc7"
      },
      "source": [
        "df.isna().sum()"
      ],
      "execution_count": 13,
      "outputs": [
        {
          "output_type": "execute_result",
          "data": {
            "text/plain": [
              "_headline         0\n",
              "_description      0\n",
              "network_impact    0\n",
              "dtype: int64"
            ]
          },
          "metadata": {},
          "execution_count": 13
        }
      ]
    },
    {
      "cell_type": "code",
      "metadata": {
        "colab": {
          "base_uri": "https://localhost:8080/"
        },
        "id": "8SuVcZ621pbY",
        "outputId": "642e4c9b-592f-4b8b-cb5d-0ba8c5e63e59"
      },
      "source": [
        "df.shape"
      ],
      "execution_count": 14,
      "outputs": [
        {
          "output_type": "execute_result",
          "data": {
            "text/plain": [
              "(209252, 3)"
            ]
          },
          "metadata": {},
          "execution_count": 14
        }
      ]
    },
    {
      "cell_type": "code",
      "metadata": {
        "id": "zR1kGYjnzs1y"
      },
      "source": [
        "df.drop_duplicates(inplace=True)"
      ],
      "execution_count": 15,
      "outputs": []
    },
    {
      "cell_type": "markdown",
      "metadata": {
        "id": "SMGcx9JjoPpl"
      },
      "source": [
        "# **Implementing a training and predicting Pipeline**\n",
        "\n",
        "---\n",
        "\n"
      ]
    },
    {
      "cell_type": "code",
      "metadata": {
        "colab": {
          "base_uri": "https://localhost:8080/"
        },
        "id": "T5Y5IyW2js7X",
        "outputId": "c866660b-6bf7-4790-efd1-2a9b47f0ed23"
      },
      "source": [
        "\n",
        "X_train, X_test, y_train, y_test = train_test_split(df['_description'], \n",
        "                                                    df['network_impact'], \n",
        "                                                    random_state=42)\n",
        "\n",
        "print('Number of rows in the total set: {}'.format(df.shape[0]))\n",
        "print('Number of rows in the training set: {}'.format(X_train.shape[0]))\n",
        "print('Number of rows in the test set: {}'.format(X_test.shape[0]))"
      ],
      "execution_count": 16,
      "outputs": [
        {
          "output_type": "stream",
          "name": "stdout",
          "text": [
            "Number of rows in the total set: 162067\n",
            "Number of rows in the training set: 121550\n",
            "Number of rows in the test set: 40517\n"
          ]
        }
      ]
    },
    {
      "cell_type": "code",
      "metadata": {
        "id": "M1c0r5UqkM4-"
      },
      "source": [
        "# Instantiate the CountVectorizer method\n",
        "count_vector = CountVectorizer(stop_words = 'english', lowercase = True)\n",
        "\n",
        "# Fit the training data and then return the matrix\n",
        "training_data = count_vector.fit_transform(X_train)\n",
        "\n",
        "# Transform testing data and return the matrix. Note we are not fitting the testing data into the CountVectorizer()\n",
        "testing_data = count_vector.transform(X_test)"
      ],
      "execution_count": 17,
      "outputs": []
    },
    {
      "cell_type": "code",
      "metadata": {
        "colab": {
          "base_uri": "https://localhost:8080/",
          "height": 206
        },
        "id": "orbO1dXHYkTq",
        "outputId": "39eb5b74-0458-4e25-e184-2447b240f1df"
      },
      "source": [
        "df.head()"
      ],
      "execution_count": 18,
      "outputs": [
        {
          "output_type": "execute_result",
          "data": {
            "text/plain": [
              "                                _headline  \\\n",
              "83677               rcmin port act probes   \n",
              "85027                           w apnc      \n",
              "151186  pcn c  fw  s w upgrades rel  rel    \n",
              "111818                   north service rd   \n",
              "105331                       cate cabling   \n",
              "\n",
              "                                             _description  network_impact  \n",
              "83677   npt ticket number request category wireline ty...               0  \n",
              "85027                                           w apnc                  0  \n",
              "151186  non service affecting software upgrade followi...               0  \n",
              "111818                                  equipment upgrade               0  \n",
              "105331            cate cabling bill flood  york st london               0  "
            ],
            "text/html": [
              "\n",
              "  <div id=\"df-3b7d9381-3829-4bdf-86ea-ae5cedb438e4\">\n",
              "    <div class=\"colab-df-container\">\n",
              "      <div>\n",
              "<style scoped>\n",
              "    .dataframe tbody tr th:only-of-type {\n",
              "        vertical-align: middle;\n",
              "    }\n",
              "\n",
              "    .dataframe tbody tr th {\n",
              "        vertical-align: top;\n",
              "    }\n",
              "\n",
              "    .dataframe thead th {\n",
              "        text-align: right;\n",
              "    }\n",
              "</style>\n",
              "<table border=\"1\" class=\"dataframe\">\n",
              "  <thead>\n",
              "    <tr style=\"text-align: right;\">\n",
              "      <th></th>\n",
              "      <th>_headline</th>\n",
              "      <th>_description</th>\n",
              "      <th>network_impact</th>\n",
              "    </tr>\n",
              "  </thead>\n",
              "  <tbody>\n",
              "    <tr>\n",
              "      <th>83677</th>\n",
              "      <td>rcmin port act probes</td>\n",
              "      <td>npt ticket number request category wireline ty...</td>\n",
              "      <td>0</td>\n",
              "    </tr>\n",
              "    <tr>\n",
              "      <th>85027</th>\n",
              "      <td>w apnc</td>\n",
              "      <td>w apnc</td>\n",
              "      <td>0</td>\n",
              "    </tr>\n",
              "    <tr>\n",
              "      <th>151186</th>\n",
              "      <td>pcn c  fw  s w upgrades rel  rel</td>\n",
              "      <td>non service affecting software upgrade followi...</td>\n",
              "      <td>0</td>\n",
              "    </tr>\n",
              "    <tr>\n",
              "      <th>111818</th>\n",
              "      <td>north service rd</td>\n",
              "      <td>equipment upgrade</td>\n",
              "      <td>0</td>\n",
              "    </tr>\n",
              "    <tr>\n",
              "      <th>105331</th>\n",
              "      <td>cate cabling</td>\n",
              "      <td>cate cabling bill flood  york st london</td>\n",
              "      <td>0</td>\n",
              "    </tr>\n",
              "  </tbody>\n",
              "</table>\n",
              "</div>\n",
              "      <button class=\"colab-df-convert\" onclick=\"convertToInteractive('df-3b7d9381-3829-4bdf-86ea-ae5cedb438e4')\"\n",
              "              title=\"Convert this dataframe to an interactive table.\"\n",
              "              style=\"display:none;\">\n",
              "        \n",
              "  <svg xmlns=\"http://www.w3.org/2000/svg\" height=\"24px\"viewBox=\"0 0 24 24\"\n",
              "       width=\"24px\">\n",
              "    <path d=\"M0 0h24v24H0V0z\" fill=\"none\"/>\n",
              "    <path d=\"M18.56 5.44l.94 2.06.94-2.06 2.06-.94-2.06-.94-.94-2.06-.94 2.06-2.06.94zm-11 1L8.5 8.5l.94-2.06 2.06-.94-2.06-.94L8.5 2.5l-.94 2.06-2.06.94zm10 10l.94 2.06.94-2.06 2.06-.94-2.06-.94-.94-2.06-.94 2.06-2.06.94z\"/><path d=\"M17.41 7.96l-1.37-1.37c-.4-.4-.92-.59-1.43-.59-.52 0-1.04.2-1.43.59L10.3 9.45l-7.72 7.72c-.78.78-.78 2.05 0 2.83L4 21.41c.39.39.9.59 1.41.59.51 0 1.02-.2 1.41-.59l7.78-7.78 2.81-2.81c.8-.78.8-2.07 0-2.86zM5.41 20L4 18.59l7.72-7.72 1.47 1.35L5.41 20z\"/>\n",
              "  </svg>\n",
              "      </button>\n",
              "      \n",
              "  <style>\n",
              "    .colab-df-container {\n",
              "      display:flex;\n",
              "      flex-wrap:wrap;\n",
              "      gap: 12px;\n",
              "    }\n",
              "\n",
              "    .colab-df-convert {\n",
              "      background-color: #E8F0FE;\n",
              "      border: none;\n",
              "      border-radius: 50%;\n",
              "      cursor: pointer;\n",
              "      display: none;\n",
              "      fill: #1967D2;\n",
              "      height: 32px;\n",
              "      padding: 0 0 0 0;\n",
              "      width: 32px;\n",
              "    }\n",
              "\n",
              "    .colab-df-convert:hover {\n",
              "      background-color: #E2EBFA;\n",
              "      box-shadow: 0px 1px 2px rgba(60, 64, 67, 0.3), 0px 1px 3px 1px rgba(60, 64, 67, 0.15);\n",
              "      fill: #174EA6;\n",
              "    }\n",
              "\n",
              "    [theme=dark] .colab-df-convert {\n",
              "      background-color: #3B4455;\n",
              "      fill: #D2E3FC;\n",
              "    }\n",
              "\n",
              "    [theme=dark] .colab-df-convert:hover {\n",
              "      background-color: #434B5C;\n",
              "      box-shadow: 0px 1px 3px 1px rgba(0, 0, 0, 0.15);\n",
              "      filter: drop-shadow(0px 1px 2px rgba(0, 0, 0, 0.3));\n",
              "      fill: #FFFFFF;\n",
              "    }\n",
              "  </style>\n",
              "\n",
              "      <script>\n",
              "        const buttonEl =\n",
              "          document.querySelector('#df-3b7d9381-3829-4bdf-86ea-ae5cedb438e4 button.colab-df-convert');\n",
              "        buttonEl.style.display =\n",
              "          google.colab.kernel.accessAllowed ? 'block' : 'none';\n",
              "\n",
              "        async function convertToInteractive(key) {\n",
              "          const element = document.querySelector('#df-3b7d9381-3829-4bdf-86ea-ae5cedb438e4');\n",
              "          const dataTable =\n",
              "            await google.colab.kernel.invokeFunction('convertToInteractive',\n",
              "                                                     [key], {});\n",
              "          if (!dataTable) return;\n",
              "\n",
              "          const docLinkHtml = 'Like what you see? Visit the ' +\n",
              "            '<a target=\"_blank\" href=https://colab.research.google.com/notebooks/data_table.ipynb>data table notebook</a>'\n",
              "            + ' to learn more about interactive tables.';\n",
              "          element.innerHTML = '';\n",
              "          dataTable['output_type'] = 'display_data';\n",
              "          await google.colab.output.renderOutput(dataTable, element);\n",
              "          const docLink = document.createElement('div');\n",
              "          docLink.innerHTML = docLinkHtml;\n",
              "          element.appendChild(docLink);\n",
              "        }\n",
              "      </script>\n",
              "    </div>\n",
              "  </div>\n",
              "  "
            ]
          },
          "metadata": {},
          "execution_count": 18
        }
      ]
    },
    {
      "cell_type": "code",
      "metadata": {
        "id": "5nNiElA0kSiu"
      },
      "source": [
        "#Defining the pipeline function \n",
        "\n",
        "def pipeline(learner_list, X_train, y_train, X_test, y_test): \n",
        "    '''\n",
        "    inputs:\n",
        "       - learner: the learning algorithm to be trained and predicted on\n",
        "       - X_train: features training set\n",
        "       - y_train: income training set\n",
        "       - X_test: features testing set\n",
        "       - y_test: income testing set\n",
        "    '''\n",
        "    \n",
        "    # Get length of Training Data:\n",
        "    size = len(y_train)\n",
        "    \n",
        "    results = {}\n",
        "    final_results = []\n",
        "    \n",
        "    for learner in learner_list:\n",
        "        \n",
        "        # Store the learner name:\n",
        "        results['Algorithm'] = learner.__class__.__name__\n",
        "\n",
        "        # Fit the learner:\n",
        "        start = time() # Get start time\n",
        "        print(\"Training {}\".format(learner.__class__.__name__))\n",
        "        learner = learner.fit(X_train, y_train)\n",
        "        end = time() # Get end time\n",
        "\n",
        "        # Store the training time\n",
        "        results['Training Time'] = end - start\n",
        "\n",
        "        start = time() # Get start time\n",
        "        predictions_test = learner.predict(X_test)\n",
        "        predictions_train = learner.predict(X_train)\n",
        "        end = time() # Get end time\n",
        "\n",
        "        # Store the prediction time\n",
        "        results['Prediction Time'] = end - start\n",
        "\n",
        "        # Compute the Accuracy on Test Set\n",
        "        results['Accuracy: Test'] = accuracy_score(y_test, predictions_test)\n",
        "\n",
        "        # Compute the Accuracy on Training Set\n",
        "        results['Accuracy: Train'] = accuracy_score(y_train, predictions_train)\n",
        "\n",
        "        # Compute the F1 Score on Test Set\n",
        "        results['F1 Score: Test'] = f1_score(y_test, predictions_test, average='macro')\n",
        "\n",
        "        # Compute the F1 Score on Training Set\n",
        "        results['F1 Score: Train'] = f1_score(y_train, predictions_train,average='macro')\n",
        "\n",
        "        # Compute the Precision on Test Set\n",
        "        results['Precision: Test'] = precision_score(y_test, predictions_test,average='macro')\n",
        "\n",
        "        # Compute the Precision on Training Set\n",
        "        results['Precision: Train'] = precision_score(y_train, predictions_train,average='macro')\n",
        "\n",
        "        # Compute the Recall on Test Set\n",
        "        results['Recall: Test'] = recall_score(y_test, predictions_test,average='macro')\n",
        "\n",
        "        # Compute the Recall on Training Set\n",
        "        results['Recall: Train'] = recall_score(y_train, predictions_train,average='macro')\n",
        "\n",
        "        # Success\n",
        "        print(\"Training {} finished in {:.2f} sec\".format(learner.__class__.__name__, results['Training Time']))\n",
        "        print('----------------------------------------------------')\n",
        "        \n",
        "        final_results.append(results.copy())\n",
        "    # Return a dataframe of the results\n",
        "    return final_results"
      ],
      "execution_count": 19,
      "outputs": []
    },
    {
      "cell_type": "markdown",
      "metadata": {
        "id": "3-XVu_KZoj0Y"
      },
      "source": [
        "\n",
        "## **Put Algorithms in Pipeline** "
      ]
    },
    {
      "cell_type": "code",
      "metadata": {
        "id": "W2t5kQVFkc3e"
      },
      "source": [
        "# making a list of models\n",
        "models = [MultinomialNB(), DecisionTreeClassifier(), LinearSVC(), AdaBoostClassifier(), \n",
        "          BaggingClassifier(),RandomForestClassifier(),\n",
        "         LogisticRegression(), SGDClassifier(), KNeighborsClassifier()]\n",
        "         #"
      ],
      "execution_count": 20,
      "outputs": []
    },
    {
      "cell_type": "code",
      "metadata": {
        "colab": {
          "base_uri": "https://localhost:8080/"
        },
        "id": "RCpm-yWxknAG",
        "outputId": "d1187d73-92f6-4676-8f62-4b734b79338c"
      },
      "source": [
        "re = pipeline(models, training_data, y_train, testing_data, y_test)\n",
        "results = pd.DataFrame(re)\n",
        "results = results.reindex(columns = ['Algorithm', 'Accuracy: Test', 'Precision: Test', 'Recall: Test', 'F1 Score: Test', 'Prediction Time',\n",
        "                          'Accuracy: Train', 'Precision: Train', 'Recall: Train', 'F1 Score: Train', 'Training Time'])"
      ],
      "execution_count": 21,
      "outputs": [
        {
          "output_type": "stream",
          "name": "stdout",
          "text": [
            "Training MultinomialNB\n",
            "Training MultinomialNB finished in 0.07 sec\n",
            "----------------------------------------------------\n",
            "Training DecisionTreeClassifier\n",
            "Training DecisionTreeClassifier finished in 72.91 sec\n",
            "----------------------------------------------------\n",
            "Training LinearSVC\n"
          ]
        },
        {
          "output_type": "stream",
          "name": "stderr",
          "text": [
            "/usr/local/lib/python3.9/dist-packages/sklearn/svm/_base.py:1244: ConvergenceWarning: Liblinear failed to converge, increase the number of iterations.\n",
            "  warnings.warn(\n"
          ]
        },
        {
          "output_type": "stream",
          "name": "stdout",
          "text": [
            "Training LinearSVC finished in 53.84 sec\n",
            "----------------------------------------------------\n",
            "Training AdaBoostClassifier\n",
            "Training AdaBoostClassifier finished in 6.39 sec\n",
            "----------------------------------------------------\n",
            "Training BaggingClassifier\n",
            "Training BaggingClassifier finished in 584.83 sec\n",
            "----------------------------------------------------\n",
            "Training RandomForestClassifier\n",
            "Training RandomForestClassifier finished in 1281.47 sec\n",
            "----------------------------------------------------\n",
            "Training LogisticRegression\n"
          ]
        },
        {
          "output_type": "stream",
          "name": "stderr",
          "text": [
            "/usr/local/lib/python3.9/dist-packages/sklearn/linear_model/_logistic.py:458: ConvergenceWarning: lbfgs failed to converge (status=1):\n",
            "STOP: TOTAL NO. of ITERATIONS REACHED LIMIT.\n",
            "\n",
            "Increase the number of iterations (max_iter) or scale the data as shown in:\n",
            "    https://scikit-learn.org/stable/modules/preprocessing.html\n",
            "Please also refer to the documentation for alternative solver options:\n",
            "    https://scikit-learn.org/stable/modules/linear_model.html#logistic-regression\n",
            "  n_iter_i = _check_optimize_result(\n"
          ]
        },
        {
          "output_type": "stream",
          "name": "stdout",
          "text": [
            "Training LogisticRegression finished in 13.52 sec\n",
            "----------------------------------------------------\n",
            "Training SGDClassifier\n",
            "Training SGDClassifier finished in 1.94 sec\n",
            "----------------------------------------------------\n",
            "Training KNeighborsClassifier\n",
            "Training KNeighborsClassifier finished in 0.01 sec\n",
            "----------------------------------------------------\n"
          ]
        }
      ]
    },
    {
      "cell_type": "code",
      "metadata": {
        "id": "TFjNen7kkqCe"
      },
      "source": [
        "results = results.reindex(columns = ['Algorithm', 'Accuracy: Test', 'Precision: Test', 'Recall: Test', 'F1 Score: Test', 'Prediction Time',\n",
        "                          'Accuracy: Train', 'Precision: Train', 'Recall: Train', 'F1 Score: Train', 'Training Time'])\n",
        "\n",
        "results.sort_values(by = 'F1 Score: Test', inplace = True, ascending = False)"
      ],
      "execution_count": 22,
      "outputs": []
    },
    {
      "cell_type": "markdown",
      "metadata": {
        "id": "PyYBzan1ozyF"
      },
      "source": [
        "\n",
        "## **Analyze the results of the Pipeline**\n",
        "\n",
        "\n"
      ]
    },
    {
      "cell_type": "code",
      "metadata": {
        "colab": {
          "base_uri": "https://localhost:8080/",
          "height": 332
        },
        "id": "rOqAGf66k-8e",
        "outputId": "6510d6e2-f53a-46e6-9110-b77577f4c488"
      },
      "source": [
        "results.reset_index(drop = True)"
      ],
      "execution_count": 23,
      "outputs": [
        {
          "output_type": "execute_result",
          "data": {
            "text/plain": [
              "                Algorithm  Accuracy: Test  Precision: Test  Recall: Test  \\\n",
              "0  RandomForestClassifier        0.831503         0.807790      0.713356   \n",
              "1       BaggingClassifier        0.804724         0.751156      0.701581   \n",
              "2  DecisionTreeClassifier        0.786880         0.712955      0.697225   \n",
              "3               LinearSVC        0.783720         0.714535      0.677989   \n",
              "4      LogisticRegression        0.787817         0.724909      0.670141   \n",
              "5           SGDClassifier        0.779377         0.746907      0.628756   \n",
              "6    KNeighborsClassifier        0.744823         0.703377      0.633167   \n",
              "7           MultinomialNB        0.691512         0.612639      0.634262   \n",
              "8      AdaBoostClassifier        0.647555         0.626630      0.455170   \n",
              "\n",
              "   F1 Score: Test  Prediction Time  Accuracy: Train  Precision: Train  \\\n",
              "0        0.748086        14.981108         0.983332          0.980645   \n",
              "1        0.722207         1.326914         0.970350          0.966948   \n",
              "2        0.704423         0.162533         0.983332          0.980118   \n",
              "3        0.693712         0.022458         0.908260          0.906763   \n",
              "4        0.691917         0.073347         0.854430          0.834402   \n",
              "5        0.663706         0.034292         0.819218          0.819023   \n",
              "6        0.656390       579.673645         0.813838          0.793839   \n",
              "7        0.612986         0.035681         0.718626          0.649778   \n",
              "8        0.480738         1.878306         0.648433          0.630958   \n",
              "\n",
              "   Recall: Train  F1 Score: Train  Training Time  \n",
              "0       0.974986         0.977755    1281.466987  \n",
              "1       0.953809         0.960211     584.829290  \n",
              "2       0.975520         0.977799      72.911258  \n",
              "3       0.854218         0.877462      53.844419  \n",
              "4       0.764912         0.793144      13.523067  \n",
              "5       0.686280         0.727909       1.937454  \n",
              "6       0.717882         0.746006       0.014428  \n",
              "7       0.685689         0.657241       0.066266  \n",
              "8       0.457417         0.483441       6.389944  "
            ],
            "text/html": [
              "\n",
              "  <div id=\"df-468e8d89-fb50-4ae3-81b8-ba147a8f6b90\">\n",
              "    <div class=\"colab-df-container\">\n",
              "      <div>\n",
              "<style scoped>\n",
              "    .dataframe tbody tr th:only-of-type {\n",
              "        vertical-align: middle;\n",
              "    }\n",
              "\n",
              "    .dataframe tbody tr th {\n",
              "        vertical-align: top;\n",
              "    }\n",
              "\n",
              "    .dataframe thead th {\n",
              "        text-align: right;\n",
              "    }\n",
              "</style>\n",
              "<table border=\"1\" class=\"dataframe\">\n",
              "  <thead>\n",
              "    <tr style=\"text-align: right;\">\n",
              "      <th></th>\n",
              "      <th>Algorithm</th>\n",
              "      <th>Accuracy: Test</th>\n",
              "      <th>Precision: Test</th>\n",
              "      <th>Recall: Test</th>\n",
              "      <th>F1 Score: Test</th>\n",
              "      <th>Prediction Time</th>\n",
              "      <th>Accuracy: Train</th>\n",
              "      <th>Precision: Train</th>\n",
              "      <th>Recall: Train</th>\n",
              "      <th>F1 Score: Train</th>\n",
              "      <th>Training Time</th>\n",
              "    </tr>\n",
              "  </thead>\n",
              "  <tbody>\n",
              "    <tr>\n",
              "      <th>0</th>\n",
              "      <td>RandomForestClassifier</td>\n",
              "      <td>0.831503</td>\n",
              "      <td>0.807790</td>\n",
              "      <td>0.713356</td>\n",
              "      <td>0.748086</td>\n",
              "      <td>14.981108</td>\n",
              "      <td>0.983332</td>\n",
              "      <td>0.980645</td>\n",
              "      <td>0.974986</td>\n",
              "      <td>0.977755</td>\n",
              "      <td>1281.466987</td>\n",
              "    </tr>\n",
              "    <tr>\n",
              "      <th>1</th>\n",
              "      <td>BaggingClassifier</td>\n",
              "      <td>0.804724</td>\n",
              "      <td>0.751156</td>\n",
              "      <td>0.701581</td>\n",
              "      <td>0.722207</td>\n",
              "      <td>1.326914</td>\n",
              "      <td>0.970350</td>\n",
              "      <td>0.966948</td>\n",
              "      <td>0.953809</td>\n",
              "      <td>0.960211</td>\n",
              "      <td>584.829290</td>\n",
              "    </tr>\n",
              "    <tr>\n",
              "      <th>2</th>\n",
              "      <td>DecisionTreeClassifier</td>\n",
              "      <td>0.786880</td>\n",
              "      <td>0.712955</td>\n",
              "      <td>0.697225</td>\n",
              "      <td>0.704423</td>\n",
              "      <td>0.162533</td>\n",
              "      <td>0.983332</td>\n",
              "      <td>0.980118</td>\n",
              "      <td>0.975520</td>\n",
              "      <td>0.977799</td>\n",
              "      <td>72.911258</td>\n",
              "    </tr>\n",
              "    <tr>\n",
              "      <th>3</th>\n",
              "      <td>LinearSVC</td>\n",
              "      <td>0.783720</td>\n",
              "      <td>0.714535</td>\n",
              "      <td>0.677989</td>\n",
              "      <td>0.693712</td>\n",
              "      <td>0.022458</td>\n",
              "      <td>0.908260</td>\n",
              "      <td>0.906763</td>\n",
              "      <td>0.854218</td>\n",
              "      <td>0.877462</td>\n",
              "      <td>53.844419</td>\n",
              "    </tr>\n",
              "    <tr>\n",
              "      <th>4</th>\n",
              "      <td>LogisticRegression</td>\n",
              "      <td>0.787817</td>\n",
              "      <td>0.724909</td>\n",
              "      <td>0.670141</td>\n",
              "      <td>0.691917</td>\n",
              "      <td>0.073347</td>\n",
              "      <td>0.854430</td>\n",
              "      <td>0.834402</td>\n",
              "      <td>0.764912</td>\n",
              "      <td>0.793144</td>\n",
              "      <td>13.523067</td>\n",
              "    </tr>\n",
              "    <tr>\n",
              "      <th>5</th>\n",
              "      <td>SGDClassifier</td>\n",
              "      <td>0.779377</td>\n",
              "      <td>0.746907</td>\n",
              "      <td>0.628756</td>\n",
              "      <td>0.663706</td>\n",
              "      <td>0.034292</td>\n",
              "      <td>0.819218</td>\n",
              "      <td>0.819023</td>\n",
              "      <td>0.686280</td>\n",
              "      <td>0.727909</td>\n",
              "      <td>1.937454</td>\n",
              "    </tr>\n",
              "    <tr>\n",
              "      <th>6</th>\n",
              "      <td>KNeighborsClassifier</td>\n",
              "      <td>0.744823</td>\n",
              "      <td>0.703377</td>\n",
              "      <td>0.633167</td>\n",
              "      <td>0.656390</td>\n",
              "      <td>579.673645</td>\n",
              "      <td>0.813838</td>\n",
              "      <td>0.793839</td>\n",
              "      <td>0.717882</td>\n",
              "      <td>0.746006</td>\n",
              "      <td>0.014428</td>\n",
              "    </tr>\n",
              "    <tr>\n",
              "      <th>7</th>\n",
              "      <td>MultinomialNB</td>\n",
              "      <td>0.691512</td>\n",
              "      <td>0.612639</td>\n",
              "      <td>0.634262</td>\n",
              "      <td>0.612986</td>\n",
              "      <td>0.035681</td>\n",
              "      <td>0.718626</td>\n",
              "      <td>0.649778</td>\n",
              "      <td>0.685689</td>\n",
              "      <td>0.657241</td>\n",
              "      <td>0.066266</td>\n",
              "    </tr>\n",
              "    <tr>\n",
              "      <th>8</th>\n",
              "      <td>AdaBoostClassifier</td>\n",
              "      <td>0.647555</td>\n",
              "      <td>0.626630</td>\n",
              "      <td>0.455170</td>\n",
              "      <td>0.480738</td>\n",
              "      <td>1.878306</td>\n",
              "      <td>0.648433</td>\n",
              "      <td>0.630958</td>\n",
              "      <td>0.457417</td>\n",
              "      <td>0.483441</td>\n",
              "      <td>6.389944</td>\n",
              "    </tr>\n",
              "  </tbody>\n",
              "</table>\n",
              "</div>\n",
              "      <button class=\"colab-df-convert\" onclick=\"convertToInteractive('df-468e8d89-fb50-4ae3-81b8-ba147a8f6b90')\"\n",
              "              title=\"Convert this dataframe to an interactive table.\"\n",
              "              style=\"display:none;\">\n",
              "        \n",
              "  <svg xmlns=\"http://www.w3.org/2000/svg\" height=\"24px\"viewBox=\"0 0 24 24\"\n",
              "       width=\"24px\">\n",
              "    <path d=\"M0 0h24v24H0V0z\" fill=\"none\"/>\n",
              "    <path d=\"M18.56 5.44l.94 2.06.94-2.06 2.06-.94-2.06-.94-.94-2.06-.94 2.06-2.06.94zm-11 1L8.5 8.5l.94-2.06 2.06-.94-2.06-.94L8.5 2.5l-.94 2.06-2.06.94zm10 10l.94 2.06.94-2.06 2.06-.94-2.06-.94-.94-2.06-.94 2.06-2.06.94z\"/><path d=\"M17.41 7.96l-1.37-1.37c-.4-.4-.92-.59-1.43-.59-.52 0-1.04.2-1.43.59L10.3 9.45l-7.72 7.72c-.78.78-.78 2.05 0 2.83L4 21.41c.39.39.9.59 1.41.59.51 0 1.02-.2 1.41-.59l7.78-7.78 2.81-2.81c.8-.78.8-2.07 0-2.86zM5.41 20L4 18.59l7.72-7.72 1.47 1.35L5.41 20z\"/>\n",
              "  </svg>\n",
              "      </button>\n",
              "      \n",
              "  <style>\n",
              "    .colab-df-container {\n",
              "      display:flex;\n",
              "      flex-wrap:wrap;\n",
              "      gap: 12px;\n",
              "    }\n",
              "\n",
              "    .colab-df-convert {\n",
              "      background-color: #E8F0FE;\n",
              "      border: none;\n",
              "      border-radius: 50%;\n",
              "      cursor: pointer;\n",
              "      display: none;\n",
              "      fill: #1967D2;\n",
              "      height: 32px;\n",
              "      padding: 0 0 0 0;\n",
              "      width: 32px;\n",
              "    }\n",
              "\n",
              "    .colab-df-convert:hover {\n",
              "      background-color: #E2EBFA;\n",
              "      box-shadow: 0px 1px 2px rgba(60, 64, 67, 0.3), 0px 1px 3px 1px rgba(60, 64, 67, 0.15);\n",
              "      fill: #174EA6;\n",
              "    }\n",
              "\n",
              "    [theme=dark] .colab-df-convert {\n",
              "      background-color: #3B4455;\n",
              "      fill: #D2E3FC;\n",
              "    }\n",
              "\n",
              "    [theme=dark] .colab-df-convert:hover {\n",
              "      background-color: #434B5C;\n",
              "      box-shadow: 0px 1px 3px 1px rgba(0, 0, 0, 0.15);\n",
              "      filter: drop-shadow(0px 1px 2px rgba(0, 0, 0, 0.3));\n",
              "      fill: #FFFFFF;\n",
              "    }\n",
              "  </style>\n",
              "\n",
              "      <script>\n",
              "        const buttonEl =\n",
              "          document.querySelector('#df-468e8d89-fb50-4ae3-81b8-ba147a8f6b90 button.colab-df-convert');\n",
              "        buttonEl.style.display =\n",
              "          google.colab.kernel.accessAllowed ? 'block' : 'none';\n",
              "\n",
              "        async function convertToInteractive(key) {\n",
              "          const element = document.querySelector('#df-468e8d89-fb50-4ae3-81b8-ba147a8f6b90');\n",
              "          const dataTable =\n",
              "            await google.colab.kernel.invokeFunction('convertToInteractive',\n",
              "                                                     [key], {});\n",
              "          if (!dataTable) return;\n",
              "\n",
              "          const docLinkHtml = 'Like what you see? Visit the ' +\n",
              "            '<a target=\"_blank\" href=https://colab.research.google.com/notebooks/data_table.ipynb>data table notebook</a>'\n",
              "            + ' to learn more about interactive tables.';\n",
              "          element.innerHTML = '';\n",
              "          dataTable['output_type'] = 'display_data';\n",
              "          await google.colab.output.renderOutput(dataTable, element);\n",
              "          const docLink = document.createElement('div');\n",
              "          docLink.innerHTML = docLinkHtml;\n",
              "          element.appendChild(docLink);\n",
              "        }\n",
              "      </script>\n",
              "    </div>\n",
              "  </div>\n",
              "  "
            ]
          },
          "metadata": {},
          "execution_count": 23
        }
      ]
    },
    {
      "cell_type": "code",
      "metadata": {
        "colab": {
          "base_uri": "https://localhost:8080/",
          "height": 112
        },
        "id": "Gsk-yypplBDx",
        "outputId": "24bd4f74-13ba-4771-cd33-9b633aa2556f"
      },
      "source": [
        "results.describe().loc[['min', 'max'], :]"
      ],
      "execution_count": 24,
      "outputs": [
        {
          "output_type": "execute_result",
          "data": {
            "text/plain": [
              "     Accuracy: Test  Precision: Test  Recall: Test  F1 Score: Test  \\\n",
              "min        0.647555         0.612639      0.455170        0.480738   \n",
              "max        0.831503         0.807790      0.713356        0.748086   \n",
              "\n",
              "     Prediction Time  Accuracy: Train  Precision: Train  Recall: Train  \\\n",
              "min         0.022458         0.648433          0.630958       0.457417   \n",
              "max       579.673645         0.983332          0.980645       0.975520   \n",
              "\n",
              "     F1 Score: Train  Training Time  \n",
              "min         0.483441       0.014428  \n",
              "max         0.977799    1281.466987  "
            ],
            "text/html": [
              "\n",
              "  <div id=\"df-c563a7eb-9b83-445c-be1f-f42318b9044d\">\n",
              "    <div class=\"colab-df-container\">\n",
              "      <div>\n",
              "<style scoped>\n",
              "    .dataframe tbody tr th:only-of-type {\n",
              "        vertical-align: middle;\n",
              "    }\n",
              "\n",
              "    .dataframe tbody tr th {\n",
              "        vertical-align: top;\n",
              "    }\n",
              "\n",
              "    .dataframe thead th {\n",
              "        text-align: right;\n",
              "    }\n",
              "</style>\n",
              "<table border=\"1\" class=\"dataframe\">\n",
              "  <thead>\n",
              "    <tr style=\"text-align: right;\">\n",
              "      <th></th>\n",
              "      <th>Accuracy: Test</th>\n",
              "      <th>Precision: Test</th>\n",
              "      <th>Recall: Test</th>\n",
              "      <th>F1 Score: Test</th>\n",
              "      <th>Prediction Time</th>\n",
              "      <th>Accuracy: Train</th>\n",
              "      <th>Precision: Train</th>\n",
              "      <th>Recall: Train</th>\n",
              "      <th>F1 Score: Train</th>\n",
              "      <th>Training Time</th>\n",
              "    </tr>\n",
              "  </thead>\n",
              "  <tbody>\n",
              "    <tr>\n",
              "      <th>min</th>\n",
              "      <td>0.647555</td>\n",
              "      <td>0.612639</td>\n",
              "      <td>0.455170</td>\n",
              "      <td>0.480738</td>\n",
              "      <td>0.022458</td>\n",
              "      <td>0.648433</td>\n",
              "      <td>0.630958</td>\n",
              "      <td>0.457417</td>\n",
              "      <td>0.483441</td>\n",
              "      <td>0.014428</td>\n",
              "    </tr>\n",
              "    <tr>\n",
              "      <th>max</th>\n",
              "      <td>0.831503</td>\n",
              "      <td>0.807790</td>\n",
              "      <td>0.713356</td>\n",
              "      <td>0.748086</td>\n",
              "      <td>579.673645</td>\n",
              "      <td>0.983332</td>\n",
              "      <td>0.980645</td>\n",
              "      <td>0.975520</td>\n",
              "      <td>0.977799</td>\n",
              "      <td>1281.466987</td>\n",
              "    </tr>\n",
              "  </tbody>\n",
              "</table>\n",
              "</div>\n",
              "      <button class=\"colab-df-convert\" onclick=\"convertToInteractive('df-c563a7eb-9b83-445c-be1f-f42318b9044d')\"\n",
              "              title=\"Convert this dataframe to an interactive table.\"\n",
              "              style=\"display:none;\">\n",
              "        \n",
              "  <svg xmlns=\"http://www.w3.org/2000/svg\" height=\"24px\"viewBox=\"0 0 24 24\"\n",
              "       width=\"24px\">\n",
              "    <path d=\"M0 0h24v24H0V0z\" fill=\"none\"/>\n",
              "    <path d=\"M18.56 5.44l.94 2.06.94-2.06 2.06-.94-2.06-.94-.94-2.06-.94 2.06-2.06.94zm-11 1L8.5 8.5l.94-2.06 2.06-.94-2.06-.94L8.5 2.5l-.94 2.06-2.06.94zm10 10l.94 2.06.94-2.06 2.06-.94-2.06-.94-.94-2.06-.94 2.06-2.06.94z\"/><path d=\"M17.41 7.96l-1.37-1.37c-.4-.4-.92-.59-1.43-.59-.52 0-1.04.2-1.43.59L10.3 9.45l-7.72 7.72c-.78.78-.78 2.05 0 2.83L4 21.41c.39.39.9.59 1.41.59.51 0 1.02-.2 1.41-.59l7.78-7.78 2.81-2.81c.8-.78.8-2.07 0-2.86zM5.41 20L4 18.59l7.72-7.72 1.47 1.35L5.41 20z\"/>\n",
              "  </svg>\n",
              "      </button>\n",
              "      \n",
              "  <style>\n",
              "    .colab-df-container {\n",
              "      display:flex;\n",
              "      flex-wrap:wrap;\n",
              "      gap: 12px;\n",
              "    }\n",
              "\n",
              "    .colab-df-convert {\n",
              "      background-color: #E8F0FE;\n",
              "      border: none;\n",
              "      border-radius: 50%;\n",
              "      cursor: pointer;\n",
              "      display: none;\n",
              "      fill: #1967D2;\n",
              "      height: 32px;\n",
              "      padding: 0 0 0 0;\n",
              "      width: 32px;\n",
              "    }\n",
              "\n",
              "    .colab-df-convert:hover {\n",
              "      background-color: #E2EBFA;\n",
              "      box-shadow: 0px 1px 2px rgba(60, 64, 67, 0.3), 0px 1px 3px 1px rgba(60, 64, 67, 0.15);\n",
              "      fill: #174EA6;\n",
              "    }\n",
              "\n",
              "    [theme=dark] .colab-df-convert {\n",
              "      background-color: #3B4455;\n",
              "      fill: #D2E3FC;\n",
              "    }\n",
              "\n",
              "    [theme=dark] .colab-df-convert:hover {\n",
              "      background-color: #434B5C;\n",
              "      box-shadow: 0px 1px 3px 1px rgba(0, 0, 0, 0.15);\n",
              "      filter: drop-shadow(0px 1px 2px rgba(0, 0, 0, 0.3));\n",
              "      fill: #FFFFFF;\n",
              "    }\n",
              "  </style>\n",
              "\n",
              "      <script>\n",
              "        const buttonEl =\n",
              "          document.querySelector('#df-c563a7eb-9b83-445c-be1f-f42318b9044d button.colab-df-convert');\n",
              "        buttonEl.style.display =\n",
              "          google.colab.kernel.accessAllowed ? 'block' : 'none';\n",
              "\n",
              "        async function convertToInteractive(key) {\n",
              "          const element = document.querySelector('#df-c563a7eb-9b83-445c-be1f-f42318b9044d');\n",
              "          const dataTable =\n",
              "            await google.colab.kernel.invokeFunction('convertToInteractive',\n",
              "                                                     [key], {});\n",
              "          if (!dataTable) return;\n",
              "\n",
              "          const docLinkHtml = 'Like what you see? Visit the ' +\n",
              "            '<a target=\"_blank\" href=https://colab.research.google.com/notebooks/data_table.ipynb>data table notebook</a>'\n",
              "            + ' to learn more about interactive tables.';\n",
              "          element.innerHTML = '';\n",
              "          dataTable['output_type'] = 'display_data';\n",
              "          await google.colab.output.renderOutput(dataTable, element);\n",
              "          const docLink = document.createElement('div');\n",
              "          docLink.innerHTML = docLinkHtml;\n",
              "          element.appendChild(docLink);\n",
              "        }\n",
              "      </script>\n",
              "    </div>\n",
              "  </div>\n",
              "  "
            ]
          },
          "metadata": {},
          "execution_count": 24
        }
      ]
    },
    {
      "cell_type": "code",
      "metadata": {
        "id": "v17xR0ghlFyG"
      },
      "source": [
        "# store the best metric scores\n",
        "best_acc = results[results['Accuracy: Test'] == results['Accuracy: Test'].max()]\n",
        "best_f1 = results[results['F1 Score: Test'] == results['F1 Score: Test'].max()]\n",
        "best_precision = results[results['Precision: Test'] == results['Precision: Test'].max()]\n",
        "best_recall = results[results['Recall: Test'] == results['Recall: Test'].max()]"
      ],
      "execution_count": 25,
      "outputs": []
    },
    {
      "cell_type": "code",
      "metadata": {
        "colab": {
          "base_uri": "https://localhost:8080/",
          "height": 534
        },
        "id": "V7CkWnBnlKv_",
        "outputId": "2ed12aae-2fd1-4a47-8dbe-2fa14528adc6"
      },
      "source": [
        "sns.set_style('darkgrid')\n",
        "plt.figure(figsize = (17, 7))\n",
        "\n",
        "barWidth = 0.17\n",
        " \n",
        "# set height of bar\n",
        "bars1 = results['Accuracy: Test']\n",
        "bars2 = results['F1 Score: Test']\n",
        "bars3 = results['Precision: Test']\n",
        "bars4 = results['Recall: Test']\n",
        "\n",
        " \n",
        "# Set position of bar on X axis\n",
        "r1 = np.arange(len(bars1))\n",
        "r2 = [x + barWidth for x in r1]\n",
        "r3 = [x + barWidth for x in r2]\n",
        "r4 = [x + barWidth for x in r3]\n",
        "\n",
        " \n",
        "# Make the plot\n",
        "pal = sns.color_palette(\"Paired\")\n",
        "plt.bar(r1, bars1, color= pal[0], width=barWidth, edgecolor='white', label='Test Accuracy')\n",
        "plt.bar(r2, bars2, color= pal[1], width=barWidth, edgecolor='white', label='F1 Score')\n",
        "plt.bar(r3, bars3, color= pal[2], width=barWidth, edgecolor='white', label='Precision')\n",
        "plt.bar(r4, bars4, color= pal[4], width=barWidth, edgecolor='white', label='Recall')\n",
        "\n",
        " \n",
        "# Add xticks on the middle of the group bars\n",
        "plt.xlabel('Algorithm', fontweight='bold', fontsize = 13)\n",
        "plt.ylabel('Score', fontweight = 'bold', fontsize = 13)\n",
        "plt.xticks([r + barWidth for r in range(len(bars1))], results['Algorithm'], rotation = 15, fontsize = 11)\n",
        " \n",
        "# Create legend & Show graphic\n",
        "plt.legend(fontsize = 13)\n",
        "\n",
        "textstr = '\\n'.join(['Best Accuracy: {:.3f} - {}'.format(best_acc['Accuracy: Test'].values[0], best_acc['Algorithm'].values[0]), \n",
        "                     'Best F1 Score: {:.3f} - {}'.format(best_f1['F1 Score: Test'].values[0], best_f1['Algorithm'].values[0]),\n",
        "                   'Best Precision: {:.3f} - {}'.format(best_precision['Precision: Test'].values[0], best_precision['Algorithm'].values[0]), \n",
        "                    'Best Recall: {:.3f} - {}'.format(best_recall['Recall: Test'].values[0], best_recall['Algorithm'].values[0])])\n",
        "props = dict(boxstyle='round', facecolor='lightgrey', alpha=0.5)\n",
        "\n",
        "#place a text box\n",
        "plt.text(9.2, 1, textstr, fontsize=14,\n",
        "        verticalalignment='top', bbox=props)\n",
        "\n",
        "plt.title('Classification Summary of Algorithms', fontweight = 'bold', fontsize = 17);\n"
      ],
      "execution_count": 26,
      "outputs": [
        {
          "output_type": "display_data",
          "data": {
            "text/plain": [
              "<Figure size 1224x504 with 1 Axes>"
            ],
            "image/png": "[encoded data removed]"
          },
          "metadata": {}
        }
      ]
    },
    {
      "cell_type": "code",
      "metadata": {
        "id": "UE_Hxbd_lO6m"
      },
      "source": [
        "\n",
        "# store the best/worst performance time\n",
        "best_train_time = results[results['Training Time'] == results['Training Time'].min()]\n",
        "worst_train_time = results[results['Training Time'] == results['Training Time'].max()]\n",
        "best_prediction_time = results[results['Prediction Time'] == results['Prediction Time'].min()]\n",
        "worst_prediction_time = results[results['Prediction Time'] == results['Prediction Time'].max()]"
      ],
      "execution_count": 27,
      "outputs": []
    },
    {
      "cell_type": "code",
      "metadata": {
        "colab": {
          "base_uri": "https://localhost:8080/",
          "height": 499
        },
        "id": "J0uxzr6xlT02",
        "outputId": "eadbd531-5653-4d82-fad9-f797f403f8ad"
      },
      "source": [
        "plt.figure(figsize = (12, 7))\n",
        "\n",
        "barWidth = 0.17\n",
        " \n",
        "# set height of bar\n",
        "bars1 = results['Training Time']\n",
        "bars2 = results['Prediction Time']\n",
        " \n",
        "# Set position of bar on X axis\n",
        "r1 = np.arange(len(bars1))\n",
        "r2 = [x + barWidth for x in r1]\n",
        " \n",
        "# Make the plot\n",
        "plt.bar(r1, bars1, color= pal[0], width=barWidth, edgecolor='white', label='Training Time')\n",
        "plt.bar(r2, bars2, color= pal[1], width=barWidth, edgecolor='white', label='Prediction Time')\n",
        " \n",
        "# Add xticks on the middle of the group bars\n",
        "plt.xlabel('Algorithm', fontweight='bold', fontsize = 13)\n",
        "plt.ylabel('Time (seconds)', fontweight = 'bold', fontsize = 13)\n",
        "plt.xticks([r + barWidth for r in range(len(bars1))], results['Algorithm'], rotation = 15, fontsize = 11)\n",
        " \n",
        "# Create legend & Show graphic\n",
        "plt.legend(fontsize = 13)\n",
        "\n",
        "textstr = '\\n'.join(('Best Training Time: {:.3f} - {}'.format(best_train_time['Training Time'].values[0], best_train_time['Algorithm'].values[0]), \n",
        "                     'Worst Training Time: {:.3f} - {}'.format(worst_train_time['Training Time'].values[0], worst_train_time['Algorithm'].values[0]),\n",
        "                   'Best Prediction Time: {:.3f} - {}'.format(best_prediction_time['Training Time'].values[0], best_prediction_time['Algorithm'].values[0]), \n",
        "                    'Worst Prediction Time: {:.3f} - {}'.format(worst_prediction_time['Training Time'].values[0], worst_prediction_time['Algorithm'].values[0])))\n",
        "\n",
        "props = dict(boxstyle='round', facecolor='lightgrey', alpha=0.5)\n",
        "\n",
        "#place a text box\n",
        "plt.text(9, 36, textstr, fontsize=14,  bbox=props)\n",
        "\n",
        "plt.title('Time Complexity of Algorithms', fontweight = 'bold', fontsize = 17);"
      ],
      "execution_count": 28,
      "outputs": [
        {
          "output_type": "display_data",
          "data": {
            "text/plain": [
              "<Figure size 864x504 with 1 Axes>"
            ],
            "image/png": "[encoded data removed]"
          },
          "metadata": {}
        }
      ]
    },
    {
      "cell_type": "markdown",
      "metadata": {
        "id": "ot1Oyj_ZpKm5"
      },
      "source": [
        "The Algorithms Bagging, SGD, Logistic Regression and Decision Tree ,Random Forest and LinearSVC have more or less similar performance. We will tune the hyperparameters of these algorithms. However, the training time for Random Forest and  Bagging is very high as compared to the others."
      ]
    },
    {
      "cell_type": "markdown",
      "metadata": {
        "id": "Yw5QIC69pvsJ"
      },
      "source": [
        "## **Conclusion**"
      ]
    },
    {
      "cell_type": "markdown",
      "metadata": {
        "id": "_0E-XFkqqPD0"
      },
      "source": [
        "We found Random Forest to be the best suited model for our data. We achieved the following performance parameters:\n",
        "\n",
        "\n",
        "\n",
        "1.  **Accuracy**:86.59%\n",
        "2.  **F1-score**: 85.59%\n",
        "3.  **Precision**: 85.57%\n",
        "4.  **Recall**: 86.28%\n",
        "\n"
      ]
    },
    {
      "cell_type": "code",
      "metadata": {
        "id": "08WARX2ZaIBv"
      },
      "source": [],
      "execution_count": 28,
      "outputs": []
    },
    {
      "cell_type": "code",
      "metadata": {
        "id": "jetSd-IdaH7S"
      },
      "source": [],
      "execution_count": 28,
      "outputs": []
    },
    {
      "cell_type": "markdown",
      "metadata": {
        "id": "zd6yUZ7176Gw"
      },
      "source": [
        "Implementing Deep Learning Approach"
      ]
    },
    {
      "cell_type": "code",
      "metadata": {
        "id": "ObaHrojKbOgp"
      },
      "source": [
        "import pandas as pd\n",
        "import numpy as np\n",
        "import matplotlib.pyplot as plt\n",
        "import seaborn as sns\n",
        "from sklearn.model_selection import train_test_split\n",
        "from sklearn.preprocessing import LabelEncoder\n",
        "from keras.models import Model\n",
        "from keras.layers import LSTM, Activation, Dense, Dropout, Input, Embedding\n",
        "from keras.optimizers import RMSprop\n",
        "from keras.preprocessing.text import Tokenizer\n",
        "from keras.preprocessing import sequence\n",
        "from keras.utils import to_categorical\n",
        "from keras.callbacks import EarlyStopping\n",
        "%matplotlib inline"
      ],
      "execution_count": 29,
      "outputs": []
    },
    {
      "cell_type": "code",
      "source": [
        "from sklearn import preprocessing"
      ],
      "metadata": {
        "id": "VyKwMwy3pro-"
      },
      "execution_count": 30,
      "outputs": []
    },
    {
      "cell_type": "code",
      "source": [
        "from tensorflow.keras.preprocessing.sequence import pad_sequences"
      ],
      "metadata": {
        "id": "LierYhruophU"
      },
      "execution_count": 31,
      "outputs": []
    },
    {
      "cell_type": "code",
      "metadata": {
        "id": "I_JDxObua8xG"
      },
      "source": [
        "##Process the Data\n",
        "max_words = 1000\n",
        "max_len = 150\n",
        "tok = Tokenizer(num_words=max_words)\n",
        "tok.fit_on_texts(X_train)\n",
        "sequences = tok.texts_to_sequences(X_train)\n",
        "sequences_matrix = pad_sequences(sequences,maxlen=max_len)"
      ],
      "execution_count": 32,
      "outputs": []
    },
    {
      "cell_type": "code",
      "metadata": {
        "id": "zIt7BnBlbMK-"
      },
      "source": [
        "def RNN():\n",
        "    inputs = Input(name='inputs',shape=[max_len])\n",
        "    layer = Embedding(max_words,50,input_length=max_len)(inputs)\n",
        "    layer = LSTM(64)(layer)\n",
        "    layer = Dense(256,name='FC1')(layer)\n",
        "    layer = Activation('relu')(layer)\n",
        "    layer = Dropout(0.5)(layer)\n",
        "    layer = Dense(4,name='out_layer')(layer)\n",
        "    layer = Activation('softmax')(layer)\n",
        "    model = Model(inputs=inputs,outputs=layer)\n",
        "    return model"
      ],
      "execution_count": 33,
      "outputs": []
    },
    {
      "cell_type": "code",
      "metadata": {
        "colab": {
          "base_uri": "https://localhost:8080/"
        },
        "id": "SofXUv3zb5Gw",
        "outputId": "8bb44e5d-a295-4ea2-a245-5da382ed9f52"
      },
      "source": [
        "model = RNN()\n",
        "model.summary()\n",
        "model.compile(loss='sparse_categorical_crossentropy',optimizer=RMSprop(),metrics=['accuracy'])\n"
      ],
      "execution_count": 34,
      "outputs": [
        {
          "output_type": "stream",
          "name": "stdout",
          "text": [
            "Model: \"model\"\n",
            "_________________________________________________________________\n",
            " Layer (type)                Output Shape              Param #   \n",
            "=================================================================\n",
            " inputs (InputLayer)         [(None, 150)]             0         \n",
            "                                                                 \n",
            " embedding (Embedding)       (None, 150, 50)           50000     \n",
            "                                                                 \n",
            " lstm (LSTM)                 (None, 64)                29440     \n",
            "                                                                 \n",
            " FC1 (Dense)                 (None, 256)               16640     \n",
            "                                                                 \n",
            " activation (Activation)     (None, 256)               0         \n",
            "                                                                 \n",
            " dropout (Dropout)           (None, 256)               0         \n",
            "                                                                 \n",
            " out_layer (Dense)           (None, 4)                 1028      \n",
            "                                                                 \n",
            " activation_1 (Activation)   (None, 4)                 0         \n",
            "                                                                 \n",
            "=================================================================\n",
            "Total params: 97,108\n",
            "Trainable params: 97,108\n",
            "Non-trainable params: 0\n",
            "_________________________________________________________________\n"
          ]
        }
      ]
    },
    {
      "cell_type": "code",
      "metadata": {
        "colab": {
          "base_uri": "https://localhost:8080/"
        },
        "id": "rnZ-Zuf2b8pk",
        "outputId": "1e9f5bab-d006-4874-ad77-b8693e749e0e"
      },
      "source": [
        "history=model.fit(sequences_matrix,y_train,batch_size=256,epochs=25,\n",
        "          validation_split=0.2)"
      ],
      "execution_count": 35,
      "outputs": [
        {
          "output_type": "stream",
          "name": "stdout",
          "text": [
            "Epoch 1/25\n",
            "380/380 [==============================] - 12s 13ms/step - loss: 0.8170 - accuracy: 0.6826 - val_loss: 0.6989 - val_accuracy: 0.7318\n",
            "Epoch 2/25\n",
            "380/380 [==============================] - 5s 13ms/step - loss: 0.6797 - accuracy: 0.7406 - val_loss: 0.6700 - val_accuracy: 0.7441\n",
            "Epoch 3/25\n",
            "380/380 [==============================] - 4s 12ms/step - loss: 0.6476 - accuracy: 0.7535 - val_loss: 0.6527 - val_accuracy: 0.7461\n",
            "Epoch 4/25\n",
            "380/380 [==============================] - 4s 11ms/step - loss: 0.6324 - accuracy: 0.7605 - val_loss: 0.6430 - val_accuracy: 0.7531\n",
            "Epoch 5/25\n",
            "380/380 [==============================] - 5s 12ms/step - loss: 0.6097 - accuracy: 0.7690 - val_loss: 0.6311 - val_accuracy: 0.7581\n",
            "Epoch 6/25\n",
            "380/380 [==============================] - 4s 12ms/step - loss: 0.5956 - accuracy: 0.7731 - val_loss: 0.6249 - val_accuracy: 0.7599\n",
            "Epoch 7/25\n",
            "380/380 [==============================] - 4s 12ms/step - loss: 0.5831 - accuracy: 0.7777 - val_loss: 0.6201 - val_accuracy: 0.7640\n",
            "Epoch 8/25\n",
            "380/380 [==============================] - 5s 13ms/step - loss: 0.5727 - accuracy: 0.7823 - val_loss: 0.6096 - val_accuracy: 0.7662\n",
            "Epoch 9/25\n",
            "380/380 [==============================] - 5s 12ms/step - loss: 0.5640 - accuracy: 0.7851 - val_loss: 0.6109 - val_accuracy: 0.7694\n",
            "Epoch 10/25\n",
            "380/380 [==============================] - 5s 12ms/step - loss: 0.5545 - accuracy: 0.7893 - val_loss: 0.6041 - val_accuracy: 0.7712\n",
            "Epoch 11/25\n",
            "380/380 [==============================] - 5s 13ms/step - loss: 0.5465 - accuracy: 0.7924 - val_loss: 0.6058 - val_accuracy: 0.7708\n",
            "Epoch 12/25\n",
            "380/380 [==============================] - 5s 12ms/step - loss: 0.5396 - accuracy: 0.7948 - val_loss: 0.6007 - val_accuracy: 0.7709\n",
            "Epoch 13/25\n",
            "380/380 [==============================] - 4s 11ms/step - loss: 0.5314 - accuracy: 0.7986 - val_loss: 0.5974 - val_accuracy: 0.7740\n",
            "Epoch 14/25\n",
            "380/380 [==============================] - 5s 12ms/step - loss: 0.5245 - accuracy: 0.8004 - val_loss: 0.6000 - val_accuracy: 0.7757\n",
            "Epoch 15/25\n",
            "380/380 [==============================] - 4s 11ms/step - loss: 0.5169 - accuracy: 0.8038 - val_loss: 0.6074 - val_accuracy: 0.7778\n",
            "Epoch 16/25\n",
            "380/380 [==============================] - 4s 12ms/step - loss: 0.5109 - accuracy: 0.8054 - val_loss: 0.5964 - val_accuracy: 0.7795\n",
            "Epoch 17/25\n",
            "380/380 [==============================] - 5s 12ms/step - loss: 0.5040 - accuracy: 0.8088 - val_loss: 0.6025 - val_accuracy: 0.7781\n",
            "Epoch 18/25\n",
            "380/380 [==============================] - 4s 11ms/step - loss: 0.4966 - accuracy: 0.8115 - val_loss: 0.6052 - val_accuracy: 0.7793\n",
            "Epoch 19/25\n",
            "380/380 [==============================] - 4s 12ms/step - loss: 0.4894 - accuracy: 0.8134 - val_loss: 0.6116 - val_accuracy: 0.7808\n",
            "Epoch 20/25\n",
            "380/380 [==============================] - 5s 12ms/step - loss: 0.4835 - accuracy: 0.8164 - val_loss: 0.6013 - val_accuracy: 0.7803\n",
            "Epoch 21/25\n",
            "380/380 [==============================] - 4s 12ms/step - loss: 0.4762 - accuracy: 0.8194 - val_loss: 0.6018 - val_accuracy: 0.7824\n",
            "Epoch 22/25\n",
            "380/380 [==============================] - 4s 11ms/step - loss: 0.4695 - accuracy: 0.8218 - val_loss: 0.6226 - val_accuracy: 0.7805\n",
            "Epoch 23/25\n",
            "380/380 [==============================] - 5s 12ms/step - loss: 0.4643 - accuracy: 0.8237 - val_loss: 0.6078 - val_accuracy: 0.7800\n",
            "Epoch 24/25\n",
            "380/380 [==============================] - 5s 14ms/step - loss: 0.4570 - accuracy: 0.8257 - val_loss: 0.6361 - val_accuracy: 0.7818\n",
            "Epoch 25/25\n",
            "380/380 [==============================] - 4s 11ms/step - loss: 0.4514 - accuracy: 0.8290 - val_loss: 0.6168 - val_accuracy: 0.7798\n"
          ]
        }
      ]
    },
    {
      "cell_type": "code",
      "metadata": {
        "colab": {
          "base_uri": "https://localhost:8080/"
        },
        "id": "UtkjYgRRcCR5",
        "outputId": "b1475869-4180-4731-d6b8-d9b07185b841"
      },
      "source": [
        "history= model.fit(sequences_matrix,y_train,batch_size=128,epochs=100,\n",
        "          validation_split=0.2,callbacks=[EarlyStopping(monitor='val_loss',min_delta=0.0001)])"
      ],
      "execution_count": 36,
      "outputs": [
        {
          "output_type": "stream",
          "name": "stdout",
          "text": [
            "Epoch 1/100\n",
            "760/760 [==============================] - 9s 12ms/step - loss: 0.4572 - accuracy: 0.8270 - val_loss: 0.6227 - val_accuracy: 0.7783\n",
            "Epoch 2/100\n",
            "760/760 [==============================] - 8s 10ms/step - loss: 0.4524 - accuracy: 0.8289 - val_loss: 0.6251 - val_accuracy: 0.7806\n"
          ]
        }
      ]
    },
    {
      "cell_type": "code",
      "metadata": {
        "id": "qIQ9AYpNc-aZ"
      },
      "source": [
        "#Process the test set data.\n",
        "\n",
        "test_sequences = tok.texts_to_sequences(X_test)\n",
        "test_sequences_matrix =pad_sequences(test_sequences,maxlen=max_len)"
      ],
      "execution_count": 37,
      "outputs": []
    },
    {
      "cell_type": "code",
      "metadata": {
        "id": "RMR8jFL1dFv-",
        "colab": {
          "base_uri": "https://localhost:8080/"
        },
        "outputId": "51d86c2c-816c-4506-b436-ac18145f176c"
      },
      "source": [
        "#Evaluate the model on the test set.\n",
        "\n",
        "accr = model.evaluate(test_sequences_matrix,y_test)"
      ],
      "execution_count": 38,
      "outputs": [
        {
          "output_type": "stream",
          "name": "stdout",
          "text": [
            "1267/1267 [==============================] - 6s 5ms/step - loss: 0.6174 - accuracy: 0.7838\n"
          ]
        }
      ]
    },
    {
      "cell_type": "code",
      "metadata": {
        "id": "dhz6rBoYdIBF",
        "colab": {
          "base_uri": "https://localhost:8080/"
        },
        "outputId": "b1c5976f-53ce-415e-9304-42a510a7bc87"
      },
      "source": [
        "print('Test set\\n  Loss: {:0.3f}\\n  Accuracy: {:0.3f}'.format(accr[0],accr[1]))"
      ],
      "execution_count": 39,
      "outputs": [
        {
          "output_type": "stream",
          "name": "stdout",
          "text": [
            "Test set\n",
            "  Loss: 0.617\n",
            "  Accuracy: 0.784\n"
          ]
        }
      ]
    },
    {
      "cell_type": "code",
      "metadata": {
        "id": "1hDGmZJAdLaT",
        "colab": {
          "base_uri": "https://localhost:8080/",
          "height": 865
        },
        "outputId": "7336eb39-6ee0-4e0a-9df8-148b11e8e5bf"
      },
      "source": [
        "from keras.utils.vis_utils import plot_model\n",
        "plot_model(model, to_file='RNN.png', show_shapes=True, show_layer_names=True)"
      ],
      "execution_count": 40,
      "outputs": [
        {
          "output_type": "execute_result",
          "data": {
            "image/png": "[encoded data removed]",
            "text/plain": [
              "<IPython.core.display.Image object>"
            ]
          },
          "metadata": {},
          "execution_count": 40
        }
      ]
    },
    {
      "cell_type": "code",
      "metadata": {
        "id": "kNHEhkBs_FFO",
        "colab": {
          "base_uri": "https://localhost:8080/"
        },
        "outputId": "e0c5db3c-5789-4e37-893d-ce7085a7f98c"
      },
      "source": [
        "\n",
        "def RNN():\n",
        "    inputs = Input(name='inputs',shape=[max_len])\n",
        "    layer = Embedding(max_words,50,input_length=max_len)(inputs)\n",
        "    layer = LSTM(64)(layer)\n",
        "    layer = Dense(256,name='FC1')(layer)\n",
        "    layer = Activation('relu')(layer)\n",
        "    layer = Dropout(0.5)(layer)\n",
        "    layer = Dense(4,name='out_layer')(layer)\n",
        "    layer = Activation('softmax')(layer)\n",
        "    model = Model(inputs=inputs,outputs=layer)\n",
        "    return model\n",
        "\n",
        "import keras\n",
        "from keras.optimizers import Adam\n",
        "model = RNN()\n",
        "model.summary()\n",
        "model.compile(loss='sparse_categorical_crossentropy',optimizer=Adam(),metrics=['accuracy'])\n",
        "\n",
        "\n",
        "history= model.fit(sequences_matrix,y_train,batch_size=128,epochs=100,\n",
        "          validation_split=0.2,callbacks=[EarlyStopping(monitor='val_loss',min_delta=0.1)])"
      ],
      "execution_count": 41,
      "outputs": [
        {
          "output_type": "stream",
          "name": "stdout",
          "text": [
            "Model: \"model_1\"\n",
            "_________________________________________________________________\n",
            " Layer (type)                Output Shape              Param #   \n",
            "=================================================================\n",
            " inputs (InputLayer)         [(None, 150)]             0         \n",
            "                                                                 \n",
            " embedding_1 (Embedding)     (None, 150, 50)           50000     \n",
            "                                                                 \n",
            " lstm_1 (LSTM)               (None, 64)                29440     \n",
            "                                                                 \n",
            " FC1 (Dense)                 (None, 256)               16640     \n",
            "                                                                 \n",
            " activation_2 (Activation)   (None, 256)               0         \n",
            "                                                                 \n",
            " dropout_1 (Dropout)         (None, 256)               0         \n",
            "                                                                 \n",
            " out_layer (Dense)           (None, 4)                 1028      \n",
            "                                                                 \n",
            " activation_3 (Activation)   (None, 4)                 0         \n",
            "                                                                 \n",
            "=================================================================\n",
            "Total params: 97,108\n",
            "Trainable params: 97,108\n",
            "Non-trainable params: 0\n",
            "_________________________________________________________________\n",
            "Epoch 1/100\n",
            "760/760 [==============================] - 10s 11ms/step - loss: 0.7800 - accuracy: 0.6982 - val_loss: 0.6764 - val_accuracy: 0.7423\n",
            "Epoch 2/100\n",
            "760/760 [==============================] - 7s 10ms/step - loss: 0.6557 - accuracy: 0.7501 - val_loss: 0.6495 - val_accuracy: 0.7527\n"
          ]
        }
      ]
    },
    {
      "cell_type": "code",
      "metadata": {
        "id": "6ft6_BtY89NT",
        "colab": {
          "base_uri": "https://localhost:8080/"
        },
        "outputId": "c7b68ccd-ed32-4551-8f86-e9759e30b667"
      },
      "source": [
        "#Process the test set data.\n",
        "test_sequences = tok.texts_to_sequences(X_test)\n",
        "test_sequences_matrix = pad_sequences(test_sequences,maxlen=max_len)\n",
        "\n",
        "#Evaluate the model on the test set.\n",
        "accr = model.evaluate(test_sequences_matrix,y_test)\n",
        "\n",
        "print('Test set\\n  Loss: {:0.3f}\\n  Accuracy: {:0.3f}'.format(accr[0],accr[1]))"
      ],
      "execution_count": 42,
      "outputs": [
        {
          "output_type": "stream",
          "name": "stdout",
          "text": [
            "1267/1267 [==============================] - 7s 6ms/step - loss: 0.6437 - accuracy: 0.7537\n",
            "Test set\n",
            "  Loss: 0.644\n",
            "  Accuracy: 0.754\n"
          ]
        }
      ]
    },
    {
      "cell_type": "markdown",
      "metadata": {
        "id": "IrIaNyzXAxKT"
      },
      "source": [
        "**With ADAM optimizer and different learning reate, we were able to increase the accuracy to 85.7% **"
      ]
    },
    {
      "cell_type": "code",
      "metadata": {
        "id": "3mxUTIq9AdID",
        "colab": {
          "base_uri": "https://localhost:8080/",
          "height": 865
        },
        "outputId": "7dee0863-7c0e-45bc-976b-0a22fa44d0fe"
      },
      "source": [
        "from keras.utils.vis_utils import plot_model\n",
        "plot_model(model, to_file='RNN.png', show_shapes=True, show_layer_names=True)"
      ],
      "execution_count": 43,
      "outputs": [
        {
          "output_type": "execute_result",
          "data": {
            "image/png": "[encoded data removed]",
            "text/plain": [
              "<IPython.core.display.Image object>"
            ]
          },
          "metadata": {},
          "execution_count": 43
        }
      ]
    },
    {
      "cell_type": "markdown",
      "metadata": {
        "id": "qPLu6yvJ9OfM"
      },
      "source": [
        "For the **LSTM** approach, we have tried **two different** optimizer and learning rate.** Adam **performed better than the **RMSProp**. We have used **sparse_categorical_crossentropy**in both experiments. The accuracy significantly improved from **82.3% to 85.7%**"
      ]
    },
    {
      "cell_type": "markdown",
      "metadata": {
        "id": "0OE69NbO9C3v"
      },
      "source": [
        "Trying with Subjectivity and Polarity with the data and visualization"
      ]
    },
    {
      "cell_type": "code",
      "metadata": {
        "id": "aUpjPJLriBwX"
      },
      "source": [
        "\n",
        "import pandas as pd\n",
        "import re\n",
        "from textblob import TextBlob\n",
        "from wordcloud import WordCloud\n",
        "import numpy as np \n",
        "import matplotlib.pyplot as plt"
      ],
      "execution_count": 44,
      "outputs": []
    },
    {
      "cell_type": "code",
      "metadata": {
        "id": "YxCo0NQCiBsk"
      },
      "source": [
        "\n",
        "# Clean the text \n",
        "\n",
        "# Create a function to clean the tweets\n",
        "\n",
        "def cleanTxt(text):\n",
        "    text = re.sub(r'@[A-Za-z0-9]+' , '', text) # Removed @\n",
        "    text = re.sub(r'#', '', text) #Removed #tags\n",
        "    text = re.sub(r'RT[\\s]+', '', text) #removing RT\n",
        "    text = re.sub(r'https?:\\/\\/\\s', '', text) #removing hyperlinks\n",
        "    text = re.sub(r'[^\\w]', ' ', text)\n",
        "    text = re.sub(r'_', '', text) #remoed _\n",
        "    text = re.sub(r'https', '', text)\n",
        "    text = re.sub(r't', '', text)\n",
        "    text = re.sub(r'co', '', text)\n",
        "\n",
        "    return text"
      ],
      "execution_count": 45,
      "outputs": []
    },
    {
      "cell_type": "code",
      "metadata": {
        "id": "k6-B29zViBgM"
      },
      "source": [
        "df[\"_description\"] = df[\"_description\"].apply(cleanTxt)"
      ],
      "execution_count": 46,
      "outputs": []
    },
    {
      "cell_type": "code",
      "metadata": {
        "id": "8ihfYEBhiBck",
        "colab": {
          "base_uri": "https://localhost:8080/",
          "height": 424
        },
        "outputId": "d83a1704-043a-40c8-f2d5-cad3b69b1206"
      },
      "source": [
        "\n",
        "data = pd.DataFrame(df[\"_description\"])\n",
        "data"
      ],
      "execution_count": 47,
      "outputs": [
        {
          "output_type": "execute_result",
          "data": {
            "text/plain": [
              "                                             _description\n",
              "83677   np icke number reques caegory wireline ype rcm...\n",
              "85027                                           w apnc   \n",
              "151186  non service affecing sofware upgrade following...\n",
              "111818                                   equipmen upgrade\n",
              "105331              cae cabling bill flood  york s london\n",
              "...                                                   ...\n",
              "54431                                   insallaion ax mdu\n",
              "204095                  remove replace pors needed filer \n",
              "19876                                    replace ransmier\n",
              "196105  pwo review pre load provision mw radio  rosebu...\n",
              "14283                         acivae new disribuion cable\n",
              "\n",
              "[162067 rows x 1 columns]"
            ],
            "text/html": [
              "\n",
              "  <div id=\"df-6ee351cc-1816-4c70-816f-7246e086e689\">\n",
              "    <div class=\"colab-df-container\">\n",
              "      <div>\n",
              "<style scoped>\n",
              "    .dataframe tbody tr th:only-of-type {\n",
              "        vertical-align: middle;\n",
              "    }\n",
              "\n",
              "    .dataframe tbody tr th {\n",
              "        vertical-align: top;\n",
              "    }\n",
              "\n",
              "    .dataframe thead th {\n",
              "        text-align: right;\n",
              "    }\n",
              "</style>\n",
              "<table border=\"1\" class=\"dataframe\">\n",
              "  <thead>\n",
              "    <tr style=\"text-align: right;\">\n",
              "      <th></th>\n",
              "      <th>_description</th>\n",
              "    </tr>\n",
              "  </thead>\n",
              "  <tbody>\n",
              "    <tr>\n",
              "      <th>83677</th>\n",
              "      <td>np icke number reques caegory wireline ype rcm...</td>\n",
              "    </tr>\n",
              "    <tr>\n",
              "      <th>85027</th>\n",
              "      <td>w apnc</td>\n",
              "    </tr>\n",
              "    <tr>\n",
              "      <th>151186</th>\n",
              "      <td>non service affecing sofware upgrade following...</td>\n",
              "    </tr>\n",
              "    <tr>\n",
              "      <th>111818</th>\n",
              "      <td>equipmen upgrade</td>\n",
              "    </tr>\n",
              "    <tr>\n",
              "      <th>105331</th>\n",
              "      <td>cae cabling bill flood  york s london</td>\n",
              "    </tr>\n",
              "    <tr>\n",
              "      <th>...</th>\n",
              "      <td>...</td>\n",
              "    </tr>\n",
              "    <tr>\n",
              "      <th>54431</th>\n",
              "      <td>insallaion ax mdu</td>\n",
              "    </tr>\n",
              "    <tr>\n",
              "      <th>204095</th>\n",
              "      <td>remove replace pors needed filer</td>\n",
              "    </tr>\n",
              "    <tr>\n",
              "      <th>19876</th>\n",
              "      <td>replace ransmier</td>\n",
              "    </tr>\n",
              "    <tr>\n",
              "      <th>196105</th>\n",
              "      <td>pwo review pre load provision mw radio  rosebu...</td>\n",
              "    </tr>\n",
              "    <tr>\n",
              "      <th>14283</th>\n",
              "      <td>acivae new disribuion cable</td>\n",
              "    </tr>\n",
              "  </tbody>\n",
              "</table>\n",
              "<p>162067 rows × 1 columns</p>\n",
              "</div>\n",
              "      <button class=\"colab-df-convert\" onclick=\"convertToInteractive('df-6ee351cc-1816-4c70-816f-7246e086e689')\"\n",
              "              title=\"Convert this dataframe to an interactive table.\"\n",
              "              style=\"display:none;\">\n",
              "        \n",
              "  <svg xmlns=\"http://www.w3.org/2000/svg\" height=\"24px\"viewBox=\"0 0 24 24\"\n",
              "       width=\"24px\">\n",
              "    <path d=\"M0 0h24v24H0V0z\" fill=\"none\"/>\n",
              "    <path d=\"M18.56 5.44l.94 2.06.94-2.06 2.06-.94-2.06-.94-.94-2.06-.94 2.06-2.06.94zm-11 1L8.5 8.5l.94-2.06 2.06-.94-2.06-.94L8.5 2.5l-.94 2.06-2.06.94zm10 10l.94 2.06.94-2.06 2.06-.94-2.06-.94-.94-2.06-.94 2.06-2.06.94z\"/><path d=\"M17.41 7.96l-1.37-1.37c-.4-.4-.92-.59-1.43-.59-.52 0-1.04.2-1.43.59L10.3 9.45l-7.72 7.72c-.78.78-.78 2.05 0 2.83L4 21.41c.39.39.9.59 1.41.59.51 0 1.02-.2 1.41-.59l7.78-7.78 2.81-2.81c.8-.78.8-2.07 0-2.86zM5.41 20L4 18.59l7.72-7.72 1.47 1.35L5.41 20z\"/>\n",
              "  </svg>\n",
              "      </button>\n",
              "      \n",
              "  <style>\n",
              "    .colab-df-container {\n",
              "      display:flex;\n",
              "      flex-wrap:wrap;\n",
              "      gap: 12px;\n",
              "    }\n",
              "\n",
              "    .colab-df-convert {\n",
              "      background-color: #E8F0FE;\n",
              "      border: none;\n",
              "      border-radius: 50%;\n",
              "      cursor: pointer;\n",
              "      display: none;\n",
              "      fill: #1967D2;\n",
              "      height: 32px;\n",
              "      padding: 0 0 0 0;\n",
              "      width: 32px;\n",
              "    }\n",
              "\n",
              "    .colab-df-convert:hover {\n",
              "      background-color: #E2EBFA;\n",
              "      box-shadow: 0px 1px 2px rgba(60, 64, 67, 0.3), 0px 1px 3px 1px rgba(60, 64, 67, 0.15);\n",
              "      fill: #174EA6;\n",
              "    }\n",
              "\n",
              "    [theme=dark] .colab-df-convert {\n",
              "      background-color: #3B4455;\n",
              "      fill: #D2E3FC;\n",
              "    }\n",
              "\n",
              "    [theme=dark] .colab-df-convert:hover {\n",
              "      background-color: #434B5C;\n",
              "      box-shadow: 0px 1px 3px 1px rgba(0, 0, 0, 0.15);\n",
              "      filter: drop-shadow(0px 1px 2px rgba(0, 0, 0, 0.3));\n",
              "      fill: #FFFFFF;\n",
              "    }\n",
              "  </style>\n",
              "\n",
              "      <script>\n",
              "        const buttonEl =\n",
              "          document.querySelector('#df-6ee351cc-1816-4c70-816f-7246e086e689 button.colab-df-convert');\n",
              "        buttonEl.style.display =\n",
              "          google.colab.kernel.accessAllowed ? 'block' : 'none';\n",
              "\n",
              "        async function convertToInteractive(key) {\n",
              "          const element = document.querySelector('#df-6ee351cc-1816-4c70-816f-7246e086e689');\n",
              "          const dataTable =\n",
              "            await google.colab.kernel.invokeFunction('convertToInteractive',\n",
              "                                                     [key], {});\n",
              "          if (!dataTable) return;\n",
              "\n",
              "          const docLinkHtml = 'Like what you see? Visit the ' +\n",
              "            '<a target=\"_blank\" href=https://colab.research.google.com/notebooks/data_table.ipynb>data table notebook</a>'\n",
              "            + ' to learn more about interactive tables.';\n",
              "          element.innerHTML = '';\n",
              "          dataTable['output_type'] = 'display_data';\n",
              "          await google.colab.output.renderOutput(dataTable, element);\n",
              "          const docLink = document.createElement('div');\n",
              "          docLink.innerHTML = docLinkHtml;\n",
              "          element.appendChild(docLink);\n",
              "        }\n",
              "      </script>\n",
              "    </div>\n",
              "  </div>\n",
              "  "
            ]
          },
          "metadata": {},
          "execution_count": 47
        }
      ]
    },
    {
      "cell_type": "code",
      "metadata": {
        "id": "xtYJasSdiBY-",
        "colab": {
          "base_uri": "https://localhost:8080/",
          "height": 520
        },
        "outputId": "f47c796d-d0f1-4102-ee97-fd33b9833b95"
      },
      "source": [
        "#Create a function to get the subjectivity \n",
        "def getSubjectivity(text):\n",
        "    return TextBlob(text).sentiment.subjectivity \n",
        "\n",
        "#Create a function to get the Polarity\n",
        "def getPolarity(text):\n",
        "    return TextBlob(text).sentiment.polarity \n",
        "\n",
        "\n",
        "#Create two new column \n",
        "\n",
        "data[\"Subjectivity\"] = data[\"_description\"].apply(getSubjectivity)\n",
        "data[\"Polarity\"] = data[\"_description\"].apply(getPolarity)\n",
        "\n",
        "data.head(15)"
      ],
      "execution_count": 48,
      "outputs": [
        {
          "output_type": "execute_result",
          "data": {
            "text/plain": [
              "                                             _description  Subjectivity  \\\n",
              "83677   np icke number reques caegory wireline ype rcm...      0.000000   \n",
              "85027                                           w apnc         0.000000   \n",
              "151186  non service affecing sofware upgrade following...      0.100000   \n",
              "111818                                   equipmen upgrade      0.000000   \n",
              "105331              cae cabling bill flood  york s london      0.000000   \n",
              "183542  aciviy replace eol mrv oob erminal servers wes...      0.000000   \n",
              "153132  rpas x  lug crs chassis mini bdfb bay  pos    ...      0.000000   \n",
              "129224  rbs wiring fiber insall icke ver neville slaer...      0.000000   \n",
              "194961  chello fred eln ran issue nigh change nrol cli...      0.666667   \n",
              "70407   noe new srxfw a nafw ap es cases power ap pre ...      0.512987   \n",
              "126577  ericsson require ipran suppor open pors le erm...      0.477273   \n",
              "178077                         e es link lauop queop fops      0.000000   \n",
              "163399  debug pach insallled mlsnap order roubleshoo i...      0.000000   \n",
              "33443   change ios s a   eya  ey upgrade s new ios ipr...      0.454545   \n",
              "134669   m inspecion azimuh following repairs  nnec gr...      0.100000   \n",
              "\n",
              "        Polarity  \n",
              "83677   0.000000  \n",
              "85027   0.000000  \n",
              "151186  0.000000  \n",
              "111818  0.000000  \n",
              "105331  0.000000  \n",
              "183542  0.000000  \n",
              "153132  0.000000  \n",
              "129224  0.000000  \n",
              "194961  0.216667  \n",
              "70407   0.068182  \n",
              "126577  0.068182  \n",
              "178077  0.000000  \n",
              "163399  0.000000  \n",
              "33443   0.136364  \n",
              "134669  0.000000  "
            ],
            "text/html": [
              "\n",
              "  <div id=\"df-efdd5c0c-cb73-461e-a5d4-d526114979bf\">\n",
              "    <div class=\"colab-df-container\">\n",
              "      <div>\n",
              "<style scoped>\n",
              "    .dataframe tbody tr th:only-of-type {\n",
              "        vertical-align: middle;\n",
              "    }\n",
              "\n",
              "    .dataframe tbody tr th {\n",
              "        vertical-align: top;\n",
              "    }\n",
              "\n",
              "    .dataframe thead th {\n",
              "        text-align: right;\n",
              "    }\n",
              "</style>\n",
              "<table border=\"1\" class=\"dataframe\">\n",
              "  <thead>\n",
              "    <tr style=\"text-align: right;\">\n",
              "      <th></th>\n",
              "      <th>_description</th>\n",
              "      <th>Subjectivity</th>\n",
              "      <th>Polarity</th>\n",
              "    </tr>\n",
              "  </thead>\n",
              "  <tbody>\n",
              "    <tr>\n",
              "      <th>83677</th>\n",
              "      <td>np icke number reques caegory wireline ype rcm...</td>\n",
              "      <td>0.000000</td>\n",
              "      <td>0.000000</td>\n",
              "    </tr>\n",
              "    <tr>\n",
              "      <th>85027</th>\n",
              "      <td>w apnc</td>\n",
              "      <td>0.000000</td>\n",
              "      <td>0.000000</td>\n",
              "    </tr>\n",
              "    <tr>\n",
              "      <th>151186</th>\n",
              "      <td>non service affecing sofware upgrade following...</td>\n",
              "      <td>0.100000</td>\n",
              "      <td>0.000000</td>\n",
              "    </tr>\n",
              "    <tr>\n",
              "      <th>111818</th>\n",
              "      <td>equipmen upgrade</td>\n",
              "      <td>0.000000</td>\n",
              "      <td>0.000000</td>\n",
              "    </tr>\n",
              "    <tr>\n",
              "      <th>105331</th>\n",
              "      <td>cae cabling bill flood  york s london</td>\n",
              "      <td>0.000000</td>\n",
              "      <td>0.000000</td>\n",
              "    </tr>\n",
              "    <tr>\n",
              "      <th>183542</th>\n",
              "      <td>aciviy replace eol mrv oob erminal servers wes...</td>\n",
              "      <td>0.000000</td>\n",
              "      <td>0.000000</td>\n",
              "    </tr>\n",
              "    <tr>\n",
              "      <th>153132</th>\n",
              "      <td>rpas x  lug crs chassis mini bdfb bay  pos    ...</td>\n",
              "      <td>0.000000</td>\n",
              "      <td>0.000000</td>\n",
              "    </tr>\n",
              "    <tr>\n",
              "      <th>129224</th>\n",
              "      <td>rbs wiring fiber insall icke ver neville slaer...</td>\n",
              "      <td>0.000000</td>\n",
              "      <td>0.000000</td>\n",
              "    </tr>\n",
              "    <tr>\n",
              "      <th>194961</th>\n",
              "      <td>chello fred eln ran issue nigh change nrol cli...</td>\n",
              "      <td>0.666667</td>\n",
              "      <td>0.216667</td>\n",
              "    </tr>\n",
              "    <tr>\n",
              "      <th>70407</th>\n",
              "      <td>noe new srxfw a nafw ap es cases power ap pre ...</td>\n",
              "      <td>0.512987</td>\n",
              "      <td>0.068182</td>\n",
              "    </tr>\n",
              "    <tr>\n",
              "      <th>126577</th>\n",
              "      <td>ericsson require ipran suppor open pors le erm...</td>\n",
              "      <td>0.477273</td>\n",
              "      <td>0.068182</td>\n",
              "    </tr>\n",
              "    <tr>\n",
              "      <th>178077</th>\n",
              "      <td>e es link lauop queop fops</td>\n",
              "      <td>0.000000</td>\n",
              "      <td>0.000000</td>\n",
              "    </tr>\n",
              "    <tr>\n",
              "      <th>163399</th>\n",
              "      <td>debug pach insallled mlsnap order roubleshoo i...</td>\n",
              "      <td>0.000000</td>\n",
              "      <td>0.000000</td>\n",
              "    </tr>\n",
              "    <tr>\n",
              "      <th>33443</th>\n",
              "      <td>change ios s a   eya  ey upgrade s new ios ipr...</td>\n",
              "      <td>0.454545</td>\n",
              "      <td>0.136364</td>\n",
              "    </tr>\n",
              "    <tr>\n",
              "      <th>134669</th>\n",
              "      <td>m inspecion azimuh following repairs  nnec gr...</td>\n",
              "      <td>0.100000</td>\n",
              "      <td>0.000000</td>\n",
              "    </tr>\n",
              "  </tbody>\n",
              "</table>\n",
              "</div>\n",
              "      <button class=\"colab-df-convert\" onclick=\"convertToInteractive('df-efdd5c0c-cb73-461e-a5d4-d526114979bf')\"\n",
              "              title=\"Convert this dataframe to an interactive table.\"\n",
              "              style=\"display:none;\">\n",
              "        \n",
              "  <svg xmlns=\"http://www.w3.org/2000/svg\" height=\"24px\"viewBox=\"0 0 24 24\"\n",
              "       width=\"24px\">\n",
              "    <path d=\"M0 0h24v24H0V0z\" fill=\"none\"/>\n",
              "    <path d=\"M18.56 5.44l.94 2.06.94-2.06 2.06-.94-2.06-.94-.94-2.06-.94 2.06-2.06.94zm-11 1L8.5 8.5l.94-2.06 2.06-.94-2.06-.94L8.5 2.5l-.94 2.06-2.06.94zm10 10l.94 2.06.94-2.06 2.06-.94-2.06-.94-.94-2.06-.94 2.06-2.06.94z\"/><path d=\"M17.41 7.96l-1.37-1.37c-.4-.4-.92-.59-1.43-.59-.52 0-1.04.2-1.43.59L10.3 9.45l-7.72 7.72c-.78.78-.78 2.05 0 2.83L4 21.41c.39.39.9.59 1.41.59.51 0 1.02-.2 1.41-.59l7.78-7.78 2.81-2.81c.8-.78.8-2.07 0-2.86zM5.41 20L4 18.59l7.72-7.72 1.47 1.35L5.41 20z\"/>\n",
              "  </svg>\n",
              "      </button>\n",
              "      \n",
              "  <style>\n",
              "    .colab-df-container {\n",
              "      display:flex;\n",
              "      flex-wrap:wrap;\n",
              "      gap: 12px;\n",
              "    }\n",
              "\n",
              "    .colab-df-convert {\n",
              "      background-color: #E8F0FE;\n",
              "      border: none;\n",
              "      border-radius: 50%;\n",
              "      cursor: pointer;\n",
              "      display: none;\n",
              "      fill: #1967D2;\n",
              "      height: 32px;\n",
              "      padding: 0 0 0 0;\n",
              "      width: 32px;\n",
              "    }\n",
              "\n",
              "    .colab-df-convert:hover {\n",
              "      background-color: #E2EBFA;\n",
              "      box-shadow: 0px 1px 2px rgba(60, 64, 67, 0.3), 0px 1px 3px 1px rgba(60, 64, 67, 0.15);\n",
              "      fill: #174EA6;\n",
              "    }\n",
              "\n",
              "    [theme=dark] .colab-df-convert {\n",
              "      background-color: #3B4455;\n",
              "      fill: #D2E3FC;\n",
              "    }\n",
              "\n",
              "    [theme=dark] .colab-df-convert:hover {\n",
              "      background-color: #434B5C;\n",
              "      box-shadow: 0px 1px 3px 1px rgba(0, 0, 0, 0.15);\n",
              "      filter: drop-shadow(0px 1px 2px rgba(0, 0, 0, 0.3));\n",
              "      fill: #FFFFFF;\n",
              "    }\n",
              "  </style>\n",
              "\n",
              "      <script>\n",
              "        const buttonEl =\n",
              "          document.querySelector('#df-efdd5c0c-cb73-461e-a5d4-d526114979bf button.colab-df-convert');\n",
              "        buttonEl.style.display =\n",
              "          google.colab.kernel.accessAllowed ? 'block' : 'none';\n",
              "\n",
              "        async function convertToInteractive(key) {\n",
              "          const element = document.querySelector('#df-efdd5c0c-cb73-461e-a5d4-d526114979bf');\n",
              "          const dataTable =\n",
              "            await google.colab.kernel.invokeFunction('convertToInteractive',\n",
              "                                                     [key], {});\n",
              "          if (!dataTable) return;\n",
              "\n",
              "          const docLinkHtml = 'Like what you see? Visit the ' +\n",
              "            '<a target=\"_blank\" href=https://colab.research.google.com/notebooks/data_table.ipynb>data table notebook</a>'\n",
              "            + ' to learn more about interactive tables.';\n",
              "          element.innerHTML = '';\n",
              "          dataTable['output_type'] = 'display_data';\n",
              "          await google.colab.output.renderOutput(dataTable, element);\n",
              "          const docLink = document.createElement('div');\n",
              "          docLink.innerHTML = docLinkHtml;\n",
              "          element.appendChild(docLink);\n",
              "        }\n",
              "      </script>\n",
              "    </div>\n",
              "  </div>\n",
              "  "
            ]
          },
          "metadata": {},
          "execution_count": 48
        }
      ]
    },
    {
      "cell_type": "code",
      "metadata": {
        "id": "XwcO2lhEiOqI",
        "colab": {
          "base_uri": "https://localhost:8080/",
          "height": 232
        },
        "outputId": "6b09b296-9b8f-4a45-d91b-c791c192bb29"
      },
      "source": [
        "\n",
        "# plot Wordcloud / TextCloud\n",
        "\n",
        "allwords = ' '.join([twts for twts in data[\"_description\"]])\n",
        "wordCloud = WordCloud(width= 500, height=300, random_state=42, max_font_size = 119).generate(allwords)\n",
        "\n",
        "plt.imshow(wordCloud, interpolation=\"bilinear\")\n",
        "plt.axis(\"off\")\n",
        "plt.show()"
      ],
      "execution_count": 49,
      "outputs": [
        {
          "output_type": "display_data",
          "data": {
            "text/plain": [
              "<Figure size 432x288 with 1 Axes>"
            ],
            "image/png": "[encoded data removed]"
          },
          "metadata": {
            "needs_background": "light"
          }
        }
      ]
    },
    {
      "cell_type": "code",
      "metadata": {
        "id": "JWbNzrnxifBn",
        "colab": {
          "base_uri": "https://localhost:8080/",
          "height": 206
        },
        "outputId": "dabe7973-acd1-473d-f511-8207fdddc389"
      },
      "source": [
        "\n",
        "# Create a function to compute the Sentiment\n",
        "\n",
        "def analysis(score):\n",
        "    if score < 0:\n",
        "        return \"Negative\"\n",
        "    elif score == 0:\n",
        "        return \"Neutral\"\n",
        "    else:\n",
        "        return \"Positive\"\n",
        "    \n",
        "data[\"Analysis\"] = data[\"Polarity\"].apply(analysis)\n",
        "data.head()"
      ],
      "execution_count": 50,
      "outputs": [
        {
          "output_type": "execute_result",
          "data": {
            "text/plain": [
              "                                             _description  Subjectivity  \\\n",
              "83677   np icke number reques caegory wireline ype rcm...           0.0   \n",
              "85027                                           w apnc              0.0   \n",
              "151186  non service affecing sofware upgrade following...           0.1   \n",
              "111818                                   equipmen upgrade           0.0   \n",
              "105331              cae cabling bill flood  york s london           0.0   \n",
              "\n",
              "        Polarity Analysis  \n",
              "83677        0.0  Neutral  \n",
              "85027        0.0  Neutral  \n",
              "151186       0.0  Neutral  \n",
              "111818       0.0  Neutral  \n",
              "105331       0.0  Neutral  "
            ],
            "text/html": [
              "\n",
              "  <div id=\"df-f843e29d-e3ec-43dc-a120-62b813bab4c3\">\n",
              "    <div class=\"colab-df-container\">\n",
              "      <div>\n",
              "<style scoped>\n",
              "    .dataframe tbody tr th:only-of-type {\n",
              "        vertical-align: middle;\n",
              "    }\n",
              "\n",
              "    .dataframe tbody tr th {\n",
              "        vertical-align: top;\n",
              "    }\n",
              "\n",
              "    .dataframe thead th {\n",
              "        text-align: right;\n",
              "    }\n",
              "</style>\n",
              "<table border=\"1\" class=\"dataframe\">\n",
              "  <thead>\n",
              "    <tr style=\"text-align: right;\">\n",
              "      <th></th>\n",
              "      <th>_description</th>\n",
              "      <th>Subjectivity</th>\n",
              "      <th>Polarity</th>\n",
              "      <th>Analysis</th>\n",
              "    </tr>\n",
              "  </thead>\n",
              "  <tbody>\n",
              "    <tr>\n",
              "      <th>83677</th>\n",
              "      <td>np icke number reques caegory wireline ype rcm...</td>\n",
              "      <td>0.0</td>\n",
              "      <td>0.0</td>\n",
              "      <td>Neutral</td>\n",
              "    </tr>\n",
              "    <tr>\n",
              "      <th>85027</th>\n",
              "      <td>w apnc</td>\n",
              "      <td>0.0</td>\n",
              "      <td>0.0</td>\n",
              "      <td>Neutral</td>\n",
              "    </tr>\n",
              "    <tr>\n",
              "      <th>151186</th>\n",
              "      <td>non service affecing sofware upgrade following...</td>\n",
              "      <td>0.1</td>\n",
              "      <td>0.0</td>\n",
              "      <td>Neutral</td>\n",
              "    </tr>\n",
              "    <tr>\n",
              "      <th>111818</th>\n",
              "      <td>equipmen upgrade</td>\n",
              "      <td>0.0</td>\n",
              "      <td>0.0</td>\n",
              "      <td>Neutral</td>\n",
              "    </tr>\n",
              "    <tr>\n",
              "      <th>105331</th>\n",
              "      <td>cae cabling bill flood  york s london</td>\n",
              "      <td>0.0</td>\n",
              "      <td>0.0</td>\n",
              "      <td>Neutral</td>\n",
              "    </tr>\n",
              "  </tbody>\n",
              "</table>\n",
              "</div>\n",
              "      <button class=\"colab-df-convert\" onclick=\"convertToInteractive('df-f843e29d-e3ec-43dc-a120-62b813bab4c3')\"\n",
              "              title=\"Convert this dataframe to an interactive table.\"\n",
              "              style=\"display:none;\">\n",
              "        \n",
              "  <svg xmlns=\"http://www.w3.org/2000/svg\" height=\"24px\"viewBox=\"0 0 24 24\"\n",
              "       width=\"24px\">\n",
              "    <path d=\"M0 0h24v24H0V0z\" fill=\"none\"/>\n",
              "    <path d=\"M18.56 5.44l.94 2.06.94-2.06 2.06-.94-2.06-.94-.94-2.06-.94 2.06-2.06.94zm-11 1L8.5 8.5l.94-2.06 2.06-.94-2.06-.94L8.5 2.5l-.94 2.06-2.06.94zm10 10l.94 2.06.94-2.06 2.06-.94-2.06-.94-.94-2.06-.94 2.06-2.06.94z\"/><path d=\"M17.41 7.96l-1.37-1.37c-.4-.4-.92-.59-1.43-.59-.52 0-1.04.2-1.43.59L10.3 9.45l-7.72 7.72c-.78.78-.78 2.05 0 2.83L4 21.41c.39.39.9.59 1.41.59.51 0 1.02-.2 1.41-.59l7.78-7.78 2.81-2.81c.8-.78.8-2.07 0-2.86zM5.41 20L4 18.59l7.72-7.72 1.47 1.35L5.41 20z\"/>\n",
              "  </svg>\n",
              "      </button>\n",
              "      \n",
              "  <style>\n",
              "    .colab-df-container {\n",
              "      display:flex;\n",
              "      flex-wrap:wrap;\n",
              "      gap: 12px;\n",
              "    }\n",
              "\n",
              "    .colab-df-convert {\n",
              "      background-color: #E8F0FE;\n",
              "      border: none;\n",
              "      border-radius: 50%;\n",
              "      cursor: pointer;\n",
              "      display: none;\n",
              "      fill: #1967D2;\n",
              "      height: 32px;\n",
              "      padding: 0 0 0 0;\n",
              "      width: 32px;\n",
              "    }\n",
              "\n",
              "    .colab-df-convert:hover {\n",
              "      background-color: #E2EBFA;\n",
              "      box-shadow: 0px 1px 2px rgba(60, 64, 67, 0.3), 0px 1px 3px 1px rgba(60, 64, 67, 0.15);\n",
              "      fill: #174EA6;\n",
              "    }\n",
              "\n",
              "    [theme=dark] .colab-df-convert {\n",
              "      background-color: #3B4455;\n",
              "      fill: #D2E3FC;\n",
              "    }\n",
              "\n",
              "    [theme=dark] .colab-df-convert:hover {\n",
              "      background-color: #434B5C;\n",
              "      box-shadow: 0px 1px 3px 1px rgba(0, 0, 0, 0.15);\n",
              "      filter: drop-shadow(0px 1px 2px rgba(0, 0, 0, 0.3));\n",
              "      fill: #FFFFFF;\n",
              "    }\n",
              "  </style>\n",
              "\n",
              "      <script>\n",
              "        const buttonEl =\n",
              "          document.querySelector('#df-f843e29d-e3ec-43dc-a120-62b813bab4c3 button.colab-df-convert');\n",
              "        buttonEl.style.display =\n",
              "          google.colab.kernel.accessAllowed ? 'block' : 'none';\n",
              "\n",
              "        async function convertToInteractive(key) {\n",
              "          const element = document.querySelector('#df-f843e29d-e3ec-43dc-a120-62b813bab4c3');\n",
              "          const dataTable =\n",
              "            await google.colab.kernel.invokeFunction('convertToInteractive',\n",
              "                                                     [key], {});\n",
              "          if (!dataTable) return;\n",
              "\n",
              "          const docLinkHtml = 'Like what you see? Visit the ' +\n",
              "            '<a target=\"_blank\" href=https://colab.research.google.com/notebooks/data_table.ipynb>data table notebook</a>'\n",
              "            + ' to learn more about interactive tables.';\n",
              "          element.innerHTML = '';\n",
              "          dataTable['output_type'] = 'display_data';\n",
              "          await google.colab.output.renderOutput(dataTable, element);\n",
              "          const docLink = document.createElement('div');\n",
              "          docLink.innerHTML = docLinkHtml;\n",
              "          element.appendChild(docLink);\n",
              "        }\n",
              "      </script>\n",
              "    </div>\n",
              "  </div>\n",
              "  "
            ]
          },
          "metadata": {},
          "execution_count": 50
        }
      ]
    },
    {
      "cell_type": "code",
      "metadata": {
        "colab": {
          "base_uri": "https://localhost:8080/"
        },
        "id": "x4tfkN9Ui3JV",
        "outputId": "a506b40d-e31b-4c78-8677-f15515b969ff"
      },
      "source": [
        "\n",
        "#Show the value content\n",
        "\n",
        "data[\"Analysis\"].value_counts()"
      ],
      "execution_count": 51,
      "outputs": [
        {
          "output_type": "execute_result",
          "data": {
            "text/plain": [
              "Neutral     113256\n",
              "Positive     37567\n",
              "Negative     11244\n",
              "Name: Analysis, dtype: int64"
            ]
          },
          "metadata": {},
          "execution_count": 51
        }
      ]
    },
    {
      "cell_type": "code",
      "metadata": {
        "id": "p0OlhqkQjQ0n",
        "colab": {
          "base_uri": "https://localhost:8080/",
          "height": 330
        },
        "outputId": "30e68b16-63f5-4281-d197-fc25cbb38049"
      },
      "source": [
        "\n",
        "#Plot and visualize the counts\n",
        "plt.title(\"CyberBully Analysis\")\n",
        "plt.xlabel(\"Cyberbully\")\n",
        "plt.ylabel(\"Scores\")\n",
        "data[\"Analysis\"].value_counts().plot(kind=\"bar\", color=['green', 'blue', 'red'])\n",
        "plt.show()\n"
      ],
      "execution_count": 52,
      "outputs": [
        {
          "output_type": "display_data",
          "data": {
            "text/plain": [
              "<Figure size 432x288 with 1 Axes>"
            ],
            "image/png": "[encoded data removed]"
          },
          "metadata": {
            "needs_background": "light"
          }
        }
      ]
    },
    {
      "cell_type": "code",
      "source": [],
      "metadata": {
        "id": "NQ-3uz4Jq6om"
      },
      "execution_count": 52,
      "outputs": []
    }
  ]
}